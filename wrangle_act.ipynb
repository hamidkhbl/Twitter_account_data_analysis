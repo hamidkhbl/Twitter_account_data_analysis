{
 "cells": [
  {
   "cell_type": "markdown",
   "metadata": {},
   "source": [
    "\n",
    "# Twitter data analysis\n",
    "\n",
    "## Table of Contents\n",
    "<ul>\n",
    "<li><a href=\"#intro\">Introduction</a></li>\n",
    "<li><a href=\"#gathering\">Data gathering</a></li>\n",
    "<li><a href=\"#Assessing\">Assessing</a></li>\n",
    "<li><a href=\"#Cleaning\">Cleaning</a></li>\n",
    "<li><a href=\"#conclusions\">Conclusions</a></li>\n",
    "</ul>"
   ]
  },
  {
   "cell_type": "code",
   "execution_count": 225,
   "metadata": {},
   "outputs": [],
   "source": [
    "# imports \n",
    "import pandas as pd\n",
    "import numpy as np\n",
    "import requests\n",
    "import tweepy\n",
    "import json\n",
    "import os\n",
    "import nltk\n",
    "import matplotlib.pyplot as plt\n",
    "%matplotlib inline\n",
    "import seaborn as sns"
   ]
  },
  {
   "cell_type": "markdown",
   "metadata": {},
   "source": [
    "<a id='intro'></a>\n",
    "# Introduction\n",
    "\n",
    "> In this project, I analyze tweets from [@WeRateDogs](https://twitter.com/dog_rates) twitter account. WeRateDogs is a Twitter account with more than eight million followers that rates people's dogs with a humorous comment about the dog.\n",
    "<br>\n",
    "I will gather the data using the twitter API."
   ]
  },
  {
   "cell_type": "markdown",
   "metadata": {},
   "source": [
    "------------------------------------"
   ]
  },
  {
   "cell_type": "markdown",
   "metadata": {},
   "source": [
    "<a id='gathering'></a>\n",
    "## Data gathering"
   ]
  },
  {
   "cell_type": "markdown",
   "metadata": {},
   "source": [
    "#### Read data from a CSV file"
   ]
  },
  {
   "cell_type": "code",
   "execution_count": 3,
   "metadata": {},
   "outputs": [
    {
     "data": {
      "text/html": [
       "<div>\n",
       "<style scoped>\n",
       "    .dataframe tbody tr th:only-of-type {\n",
       "        vertical-align: middle;\n",
       "    }\n",
       "\n",
       "    .dataframe tbody tr th {\n",
       "        vertical-align: top;\n",
       "    }\n",
       "\n",
       "    .dataframe thead th {\n",
       "        text-align: right;\n",
       "    }\n",
       "</style>\n",
       "<table border=\"1\" class=\"dataframe\">\n",
       "  <thead>\n",
       "    <tr style=\"text-align: right;\">\n",
       "      <th></th>\n",
       "      <th>in_reply_to_status_id</th>\n",
       "      <th>in_reply_to_user_id</th>\n",
       "      <th>timestamp</th>\n",
       "      <th>source</th>\n",
       "      <th>text</th>\n",
       "      <th>retweeted_status_id</th>\n",
       "      <th>retweeted_status_user_id</th>\n",
       "      <th>retweeted_status_timestamp</th>\n",
       "      <th>expanded_urls</th>\n",
       "      <th>rating_numerator</th>\n",
       "      <th>rating_denominator</th>\n",
       "      <th>name</th>\n",
       "      <th>doggo</th>\n",
       "      <th>floofer</th>\n",
       "      <th>pupper</th>\n",
       "      <th>puppo</th>\n",
       "    </tr>\n",
       "    <tr>\n",
       "      <th>tweet_id</th>\n",
       "      <th></th>\n",
       "      <th></th>\n",
       "      <th></th>\n",
       "      <th></th>\n",
       "      <th></th>\n",
       "      <th></th>\n",
       "      <th></th>\n",
       "      <th></th>\n",
       "      <th></th>\n",
       "      <th></th>\n",
       "      <th></th>\n",
       "      <th></th>\n",
       "      <th></th>\n",
       "      <th></th>\n",
       "      <th></th>\n",
       "      <th></th>\n",
       "    </tr>\n",
       "  </thead>\n",
       "  <tbody>\n",
       "    <tr>\n",
       "      <th>892420643555336193</th>\n",
       "      <td>NaN</td>\n",
       "      <td>NaN</td>\n",
       "      <td>2017-08-01 16:23:56 +0000</td>\n",
       "      <td>&lt;a href=\"http://twitter.com/download/iphone\" r...</td>\n",
       "      <td>This is Phineas. He's a mystical boy. Only eve...</td>\n",
       "      <td>NaN</td>\n",
       "      <td>NaN</td>\n",
       "      <td>NaN</td>\n",
       "      <td>https://twitter.com/dog_rates/status/892420643...</td>\n",
       "      <td>13</td>\n",
       "      <td>10</td>\n",
       "      <td>Phineas</td>\n",
       "      <td>None</td>\n",
       "      <td>None</td>\n",
       "      <td>None</td>\n",
       "      <td>None</td>\n",
       "    </tr>\n",
       "    <tr>\n",
       "      <th>892177421306343426</th>\n",
       "      <td>NaN</td>\n",
       "      <td>NaN</td>\n",
       "      <td>2017-08-01 00:17:27 +0000</td>\n",
       "      <td>&lt;a href=\"http://twitter.com/download/iphone\" r...</td>\n",
       "      <td>This is Tilly. She's just checking pup on you....</td>\n",
       "      <td>NaN</td>\n",
       "      <td>NaN</td>\n",
       "      <td>NaN</td>\n",
       "      <td>https://twitter.com/dog_rates/status/892177421...</td>\n",
       "      <td>13</td>\n",
       "      <td>10</td>\n",
       "      <td>Tilly</td>\n",
       "      <td>None</td>\n",
       "      <td>None</td>\n",
       "      <td>None</td>\n",
       "      <td>None</td>\n",
       "    </tr>\n",
       "    <tr>\n",
       "      <th>891815181378084864</th>\n",
       "      <td>NaN</td>\n",
       "      <td>NaN</td>\n",
       "      <td>2017-07-31 00:18:03 +0000</td>\n",
       "      <td>&lt;a href=\"http://twitter.com/download/iphone\" r...</td>\n",
       "      <td>This is Archie. He is a rare Norwegian Pouncin...</td>\n",
       "      <td>NaN</td>\n",
       "      <td>NaN</td>\n",
       "      <td>NaN</td>\n",
       "      <td>https://twitter.com/dog_rates/status/891815181...</td>\n",
       "      <td>12</td>\n",
       "      <td>10</td>\n",
       "      <td>Archie</td>\n",
       "      <td>None</td>\n",
       "      <td>None</td>\n",
       "      <td>None</td>\n",
       "      <td>None</td>\n",
       "    </tr>\n",
       "  </tbody>\n",
       "</table>\n",
       "</div>"
      ],
      "text/plain": [
       "                    in_reply_to_status_id  in_reply_to_user_id  \\\n",
       "tweet_id                                                         \n",
       "892420643555336193                    NaN                  NaN   \n",
       "892177421306343426                    NaN                  NaN   \n",
       "891815181378084864                    NaN                  NaN   \n",
       "\n",
       "                                    timestamp  \\\n",
       "tweet_id                                        \n",
       "892420643555336193  2017-08-01 16:23:56 +0000   \n",
       "892177421306343426  2017-08-01 00:17:27 +0000   \n",
       "891815181378084864  2017-07-31 00:18:03 +0000   \n",
       "\n",
       "                                                               source  \\\n",
       "tweet_id                                                                \n",
       "892420643555336193  <a href=\"http://twitter.com/download/iphone\" r...   \n",
       "892177421306343426  <a href=\"http://twitter.com/download/iphone\" r...   \n",
       "891815181378084864  <a href=\"http://twitter.com/download/iphone\" r...   \n",
       "\n",
       "                                                                 text  \\\n",
       "tweet_id                                                                \n",
       "892420643555336193  This is Phineas. He's a mystical boy. Only eve...   \n",
       "892177421306343426  This is Tilly. She's just checking pup on you....   \n",
       "891815181378084864  This is Archie. He is a rare Norwegian Pouncin...   \n",
       "\n",
       "                    retweeted_status_id  retweeted_status_user_id  \\\n",
       "tweet_id                                                            \n",
       "892420643555336193                  NaN                       NaN   \n",
       "892177421306343426                  NaN                       NaN   \n",
       "891815181378084864                  NaN                       NaN   \n",
       "\n",
       "                   retweeted_status_timestamp  \\\n",
       "tweet_id                                        \n",
       "892420643555336193                        NaN   \n",
       "892177421306343426                        NaN   \n",
       "891815181378084864                        NaN   \n",
       "\n",
       "                                                        expanded_urls  \\\n",
       "tweet_id                                                                \n",
       "892420643555336193  https://twitter.com/dog_rates/status/892420643...   \n",
       "892177421306343426  https://twitter.com/dog_rates/status/892177421...   \n",
       "891815181378084864  https://twitter.com/dog_rates/status/891815181...   \n",
       "\n",
       "                    rating_numerator  rating_denominator     name doggo  \\\n",
       "tweet_id                                                                  \n",
       "892420643555336193                13                  10  Phineas  None   \n",
       "892177421306343426                13                  10    Tilly  None   \n",
       "891815181378084864                12                  10   Archie  None   \n",
       "\n",
       "                   floofer pupper puppo  \n",
       "tweet_id                                 \n",
       "892420643555336193    None   None  None  \n",
       "892177421306343426    None   None  None  \n",
       "891815181378084864    None   None  None  "
      ]
     },
     "execution_count": 3,
     "metadata": {},
     "output_type": "execute_result"
    }
   ],
   "source": [
    "#Read twitter-archive-enhanced.csv file\n",
    "df_csv = pd.read_csv('twitter-archive-enhanced.csv', index_col='tweet_id')\n",
    "df_csv.head(3)"
   ]
  },
  {
   "cell_type": "markdown",
   "metadata": {},
   "source": [
    "#### Download file"
   ]
  },
  {
   "cell_type": "code",
   "execution_count": 5,
   "metadata": {},
   "outputs": [
    {
     "data": {
      "text/html": [
       "<div>\n",
       "<style scoped>\n",
       "    .dataframe tbody tr th:only-of-type {\n",
       "        vertical-align: middle;\n",
       "    }\n",
       "\n",
       "    .dataframe tbody tr th {\n",
       "        vertical-align: top;\n",
       "    }\n",
       "\n",
       "    .dataframe thead th {\n",
       "        text-align: right;\n",
       "    }\n",
       "</style>\n",
       "<table border=\"1\" class=\"dataframe\">\n",
       "  <thead>\n",
       "    <tr style=\"text-align: right;\">\n",
       "      <th></th>\n",
       "      <th>jpg_url</th>\n",
       "      <th>img_num</th>\n",
       "      <th>p1</th>\n",
       "      <th>p1_conf</th>\n",
       "      <th>p1_dog</th>\n",
       "      <th>p2</th>\n",
       "      <th>p2_conf</th>\n",
       "      <th>p2_dog</th>\n",
       "      <th>p3</th>\n",
       "      <th>p3_conf</th>\n",
       "      <th>p3_dog</th>\n",
       "    </tr>\n",
       "    <tr>\n",
       "      <th>tweet_id</th>\n",
       "      <th></th>\n",
       "      <th></th>\n",
       "      <th></th>\n",
       "      <th></th>\n",
       "      <th></th>\n",
       "      <th></th>\n",
       "      <th></th>\n",
       "      <th></th>\n",
       "      <th></th>\n",
       "      <th></th>\n",
       "      <th></th>\n",
       "    </tr>\n",
       "  </thead>\n",
       "  <tbody>\n",
       "    <tr>\n",
       "      <th>666020888022790149</th>\n",
       "      <td>https://pbs.twimg.com/media/CT4udn0WwAA0aMy.jpg</td>\n",
       "      <td>1</td>\n",
       "      <td>Welsh_springer_spaniel</td>\n",
       "      <td>0.465074</td>\n",
       "      <td>True</td>\n",
       "      <td>collie</td>\n",
       "      <td>0.156665</td>\n",
       "      <td>True</td>\n",
       "      <td>Shetland_sheepdog</td>\n",
       "      <td>0.061428</td>\n",
       "      <td>True</td>\n",
       "    </tr>\n",
       "    <tr>\n",
       "      <th>666029285002620928</th>\n",
       "      <td>https://pbs.twimg.com/media/CT42GRgUYAA5iDo.jpg</td>\n",
       "      <td>1</td>\n",
       "      <td>redbone</td>\n",
       "      <td>0.506826</td>\n",
       "      <td>True</td>\n",
       "      <td>miniature_pinscher</td>\n",
       "      <td>0.074192</td>\n",
       "      <td>True</td>\n",
       "      <td>Rhodesian_ridgeback</td>\n",
       "      <td>0.072010</td>\n",
       "      <td>True</td>\n",
       "    </tr>\n",
       "    <tr>\n",
       "      <th>666033412701032449</th>\n",
       "      <td>https://pbs.twimg.com/media/CT4521TWwAEvMyu.jpg</td>\n",
       "      <td>1</td>\n",
       "      <td>German_shepherd</td>\n",
       "      <td>0.596461</td>\n",
       "      <td>True</td>\n",
       "      <td>malinois</td>\n",
       "      <td>0.138584</td>\n",
       "      <td>True</td>\n",
       "      <td>bloodhound</td>\n",
       "      <td>0.116197</td>\n",
       "      <td>True</td>\n",
       "    </tr>\n",
       "    <tr>\n",
       "      <th>666044226329800704</th>\n",
       "      <td>https://pbs.twimg.com/media/CT5Dr8HUEAA-lEu.jpg</td>\n",
       "      <td>1</td>\n",
       "      <td>Rhodesian_ridgeback</td>\n",
       "      <td>0.408143</td>\n",
       "      <td>True</td>\n",
       "      <td>redbone</td>\n",
       "      <td>0.360687</td>\n",
       "      <td>True</td>\n",
       "      <td>miniature_pinscher</td>\n",
       "      <td>0.222752</td>\n",
       "      <td>True</td>\n",
       "    </tr>\n",
       "    <tr>\n",
       "      <th>666049248165822465</th>\n",
       "      <td>https://pbs.twimg.com/media/CT5IQmsXIAAKY4A.jpg</td>\n",
       "      <td>1</td>\n",
       "      <td>miniature_pinscher</td>\n",
       "      <td>0.560311</td>\n",
       "      <td>True</td>\n",
       "      <td>Rottweiler</td>\n",
       "      <td>0.243682</td>\n",
       "      <td>True</td>\n",
       "      <td>Doberman</td>\n",
       "      <td>0.154629</td>\n",
       "      <td>True</td>\n",
       "    </tr>\n",
       "  </tbody>\n",
       "</table>\n",
       "</div>"
      ],
      "text/plain": [
       "                                                            jpg_url  img_num  \\\n",
       "tweet_id                                                                       \n",
       "666020888022790149  https://pbs.twimg.com/media/CT4udn0WwAA0aMy.jpg        1   \n",
       "666029285002620928  https://pbs.twimg.com/media/CT42GRgUYAA5iDo.jpg        1   \n",
       "666033412701032449  https://pbs.twimg.com/media/CT4521TWwAEvMyu.jpg        1   \n",
       "666044226329800704  https://pbs.twimg.com/media/CT5Dr8HUEAA-lEu.jpg        1   \n",
       "666049248165822465  https://pbs.twimg.com/media/CT5IQmsXIAAKY4A.jpg        1   \n",
       "\n",
       "                                        p1   p1_conf  p1_dog  \\\n",
       "tweet_id                                                       \n",
       "666020888022790149  Welsh_springer_spaniel  0.465074    True   \n",
       "666029285002620928                 redbone  0.506826    True   \n",
       "666033412701032449         German_shepherd  0.596461    True   \n",
       "666044226329800704     Rhodesian_ridgeback  0.408143    True   \n",
       "666049248165822465      miniature_pinscher  0.560311    True   \n",
       "\n",
       "                                    p2   p2_conf  p2_dog                   p3  \\\n",
       "tweet_id                                                                        \n",
       "666020888022790149              collie  0.156665    True    Shetland_sheepdog   \n",
       "666029285002620928  miniature_pinscher  0.074192    True  Rhodesian_ridgeback   \n",
       "666033412701032449            malinois  0.138584    True           bloodhound   \n",
       "666044226329800704             redbone  0.360687    True   miniature_pinscher   \n",
       "666049248165822465          Rottweiler  0.243682    True             Doberman   \n",
       "\n",
       "                     p3_conf  p3_dog  \n",
       "tweet_id                              \n",
       "666020888022790149  0.061428    True  \n",
       "666029285002620928  0.072010    True  \n",
       "666033412701032449  0.116197    True  \n",
       "666044226329800704  0.222752    True  \n",
       "666049248165822465  0.154629    True  "
      ]
     },
     "execution_count": 5,
     "metadata": {},
     "output_type": "execute_result"
    }
   ],
   "source": [
    "#Download image_predictions.tsv file\n",
    "r = requests.get('https://d17h27t6h515a5.cloudfront.net/topher/2017/August/599fd2ad_image-predictions/image-predictions.tsv')\n",
    "with open(os.path.join('image_predictions.tsv'), mode='wb') as file:\n",
    "    file.write(r.content)\n",
    "\n",
    "# Read the downloaded file    \n",
    "df_tsv = pd.read_csv('image_predictions.tsv', sep='\\t', index_col='tweet_id')\n",
    "df_tsv.head()"
   ]
  },
  {
   "cell_type": "markdown",
   "metadata": {},
   "source": [
    "#### Twitter API"
   ]
  },
  {
   "cell_type": "code",
   "execution_count": 6,
   "metadata": {},
   "outputs": [],
   "source": [
    "# Connect to twitter APIs\n",
    "# I have stored authuntication information in auth.json file for security reasons\n",
    "\n",
    "auth = json.load(open('auth.json'))\n",
    "\n",
    "consumer_key = auth['consumer_key']\n",
    "consumer_secret = auth['consumer_secret']\n",
    "access_token = auth['access_token']\n",
    "access_secret = auth['access_secret']\n",
    "\n",
    "auth = tweepy.OAuthHandler(consumer_key, consumer_secret)\n",
    "auth.set_access_token(access_token, access_secret)\n",
    "\n",
    "api = tweepy.API(auth,wait_on_rate_limit=True,wait_on_rate_limit_notify=True)"
   ]
  },
  {
   "cell_type": "code",
   "execution_count": 7,
   "metadata": {},
   "outputs": [],
   "source": [
    "# Check contents of a tweet response\n",
    "json_keys =[]\n",
    "tweet = api.get_status(892420643555336193)\n"
   ]
  },
  {
   "cell_type": "code",
   "execution_count": 8,
   "metadata": {},
   "outputs": [],
   "source": [
    "# Get all dictionary keys recursively\n",
    "keys = []\n",
    "def getAllKeys(d):\n",
    "    for key, value in d.items():\n",
    "        keys.append(key)\n",
    "        if type(value) is dict:\n",
    "            getAllKeys(value)\n",
    "    return keys     "
   ]
  },
  {
   "cell_type": "code",
   "execution_count": 9,
   "metadata": {},
   "outputs": [
    {
     "name": "stdout",
     "output_type": "stream",
     "text": [
      "['created_at', 'id', 'id_str', 'text', 'truncated', 'entities', 'hashtags', 'symbols', 'user_mentions', 'urls', 'media', 'extended_entities', 'media', 'source', 'in_reply_to_status_id', 'in_reply_to_status_id_str', 'in_reply_to_user_id', 'in_reply_to_user_id_str', 'in_reply_to_screen_name', 'user', 'id', 'id_str', 'name', 'screen_name', 'location', 'description', 'url', 'entities', 'url', 'urls', 'description', 'urls', 'protected', 'followers_count', 'friends_count', 'listed_count', 'created_at', 'favourites_count', 'utc_offset', 'time_zone', 'geo_enabled', 'verified', 'statuses_count', 'lang', 'contributors_enabled', 'is_translator', 'is_translation_enabled', 'profile_background_color', 'profile_background_image_url', 'profile_background_image_url_https', 'profile_background_tile', 'profile_image_url', 'profile_image_url_https', 'profile_banner_url', 'profile_link_color', 'profile_sidebar_border_color', 'profile_sidebar_fill_color', 'profile_text_color', 'profile_use_background_image', 'has_extended_profile', 'default_profile', 'default_profile_image', 'following', 'follow_request_sent', 'notifications', 'translator_type', 'geo', 'coordinates', 'place', 'contributors', 'is_quote_status', 'retweet_count', 'favorite_count', 'favorited', 'retweeted', 'possibly_sensitive', 'possibly_sensitive_appealable', 'lang']\n"
     ]
    }
   ],
   "source": [
    "# Print tweet's properties\n",
    "print(getAllKeys(tweet._json))"
   ]
  },
  {
   "cell_type": "markdown",
   "metadata": {},
   "source": [
    "#### From the tweet properties above I select the following properties to store in the JSON file\n",
    "1. tweet_id\n",
    "* created_at\n",
    "* favorite_count\n",
    "* retweet_count\n",
    "* tweet_status_ok (If status exists true else false)\n",
    " "
   ]
  },
  {
   "cell_type": "code",
   "execution_count": 8,
   "metadata": {},
   "outputs": [
    {
     "name": "stderr",
     "output_type": "stream",
     "text": [
      "Rate limit reached. Sleeping for: 674\n",
      "Rate limit reached. Sleeping for: 673\n"
     ]
    }
   ],
   "source": [
    "# Read tweets with tweet id and save them in a json file\n",
    "error_list=[]\n",
    "with open('tweet_json.txt', 'w') as file:\n",
    "    for t in np.array(df_csv.index):\n",
    "        try:\n",
    "            tweet = api.get_status(t)\n",
    "            created_at = str(tweet.created_at)\n",
    "            favorite_count = tweet.favorite_count\n",
    "            retweet_count = tweet.retweet_count\n",
    "            tweet_status_ok = True\n",
    "        except Exception as e:\n",
    "            error_list.append(str(t))\n",
    "\n",
    "        j ={'tweet_id':int(t),\n",
    "                        'created_at':str(created_at),\n",
    "                        'favorite_count':int(favorite_count),\n",
    "                        'retweet_count':int(retweet_count),\n",
    "                        'tweet_status_ok': tweet_status_ok}\n",
    "        json.dump(j,file)\n",
    "        file.write('\\n')"
   ]
  },
  {
   "cell_type": "code",
   "execution_count": 10,
   "metadata": {},
   "outputs": [
    {
     "data": {
      "text/html": [
       "<div>\n",
       "<style scoped>\n",
       "    .dataframe tbody tr th:only-of-type {\n",
       "        vertical-align: middle;\n",
       "    }\n",
       "\n",
       "    .dataframe tbody tr th {\n",
       "        vertical-align: top;\n",
       "    }\n",
       "\n",
       "    .dataframe thead th {\n",
       "        text-align: right;\n",
       "    }\n",
       "</style>\n",
       "<table border=\"1\" class=\"dataframe\">\n",
       "  <thead>\n",
       "    <tr style=\"text-align: right;\">\n",
       "      <th></th>\n",
       "      <th>tweet_id</th>\n",
       "      <th>created_at</th>\n",
       "      <th>favorite_count</th>\n",
       "      <th>retweet_count</th>\n",
       "      <th>tweet_status_ok</th>\n",
       "    </tr>\n",
       "  </thead>\n",
       "  <tbody>\n",
       "    <tr>\n",
       "      <th>0</th>\n",
       "      <td>892420643555336193</td>\n",
       "      <td>2017-08-01 16:23:56</td>\n",
       "      <td>36600</td>\n",
       "      <td>7789</td>\n",
       "      <td>True</td>\n",
       "    </tr>\n",
       "    <tr>\n",
       "      <th>1</th>\n",
       "      <td>892177421306343426</td>\n",
       "      <td>2017-08-01 00:17:27</td>\n",
       "      <td>31536</td>\n",
       "      <td>5771</td>\n",
       "      <td>True</td>\n",
       "    </tr>\n",
       "    <tr>\n",
       "      <th>2</th>\n",
       "      <td>891815181378084864</td>\n",
       "      <td>2017-07-31 00:18:03</td>\n",
       "      <td>23755</td>\n",
       "      <td>3820</td>\n",
       "      <td>True</td>\n",
       "    </tr>\n",
       "    <tr>\n",
       "      <th>3</th>\n",
       "      <td>891689557279858688</td>\n",
       "      <td>2017-07-30 15:58:51</td>\n",
       "      <td>39927</td>\n",
       "      <td>7961</td>\n",
       "      <td>True</td>\n",
       "    </tr>\n",
       "    <tr>\n",
       "      <th>4</th>\n",
       "      <td>891327558926688256</td>\n",
       "      <td>2017-07-29 16:00:24</td>\n",
       "      <td>38124</td>\n",
       "      <td>8598</td>\n",
       "      <td>True</td>\n",
       "    </tr>\n",
       "  </tbody>\n",
       "</table>\n",
       "</div>"
      ],
      "text/plain": [
       "             tweet_id           created_at favorite_count retweet_count  \\\n",
       "0  892420643555336193  2017-08-01 16:23:56          36600          7789   \n",
       "1  892177421306343426  2017-08-01 00:17:27          31536          5771   \n",
       "2  891815181378084864  2017-07-31 00:18:03          23755          3820   \n",
       "3  891689557279858688  2017-07-30 15:58:51          39927          7961   \n",
       "4  891327558926688256  2017-07-29 16:00:24          38124          8598   \n",
       "\n",
       "  tweet_status_ok  \n",
       "0            True  \n",
       "1            True  \n",
       "2            True  \n",
       "3            True  \n",
       "4            True  "
      ]
     },
     "execution_count": 10,
     "metadata": {},
     "output_type": "execute_result"
    }
   ],
   "source": [
    "# Read JSON file\n",
    "json_list=[]\n",
    "df_json = pd.DataFrame(json_list, columns=['tweet_id','created_at','favorite_count','retweet_count','tweet_status_ok'])\n",
    "\n",
    "with open('tweet_json.txt','r') as file:\n",
    "    for line in file:\n",
    "        d = json.loads(line)\n",
    "        df_json = df_json.append(d, ignore_index=True)      \n",
    "\n",
    "df_json.head()"
   ]
  },
  {
   "cell_type": "markdown",
   "metadata": {},
   "source": [
    "------------------------------"
   ]
  },
  {
   "cell_type": "markdown",
   "metadata": {},
   "source": [
    "<a id='intro'></a>\n",
    "# Assessing"
   ]
  },
  {
   "cell_type": "markdown",
   "metadata": {},
   "source": [
    "#### Unclean Data: Dirty vs. Messy\n",
    "\n",
    ">There are two types of unclean data:\n",
    ">* **Dirty** data, also known as **low quality** data. Low quality data has **content issues**.\n",
    ">* **Messy** data, also known as **untidy data**. Untidy data has **structural issues**."
   ]
  },
  {
   "cell_type": "markdown",
   "metadata": {},
   "source": [
    "#### Visual Assesment "
   ]
  },
  {
   "cell_type": "code",
   "execution_count": 11,
   "metadata": {},
   "outputs": [
    {
     "data": {
      "text/html": [
       "<div>\n",
       "<style scoped>\n",
       "    .dataframe tbody tr th:only-of-type {\n",
       "        vertical-align: middle;\n",
       "    }\n",
       "\n",
       "    .dataframe tbody tr th {\n",
       "        vertical-align: top;\n",
       "    }\n",
       "\n",
       "    .dataframe thead th {\n",
       "        text-align: right;\n",
       "    }\n",
       "</style>\n",
       "<table border=\"1\" class=\"dataframe\">\n",
       "  <thead>\n",
       "    <tr style=\"text-align: right;\">\n",
       "      <th></th>\n",
       "      <th>in_reply_to_status_id</th>\n",
       "      <th>in_reply_to_user_id</th>\n",
       "      <th>timestamp</th>\n",
       "      <th>source</th>\n",
       "      <th>text</th>\n",
       "      <th>retweeted_status_id</th>\n",
       "      <th>retweeted_status_user_id</th>\n",
       "      <th>retweeted_status_timestamp</th>\n",
       "      <th>expanded_urls</th>\n",
       "      <th>rating_numerator</th>\n",
       "      <th>rating_denominator</th>\n",
       "      <th>name</th>\n",
       "      <th>doggo</th>\n",
       "      <th>floofer</th>\n",
       "      <th>pupper</th>\n",
       "      <th>puppo</th>\n",
       "    </tr>\n",
       "    <tr>\n",
       "      <th>tweet_id</th>\n",
       "      <th></th>\n",
       "      <th></th>\n",
       "      <th></th>\n",
       "      <th></th>\n",
       "      <th></th>\n",
       "      <th></th>\n",
       "      <th></th>\n",
       "      <th></th>\n",
       "      <th></th>\n",
       "      <th></th>\n",
       "      <th></th>\n",
       "      <th></th>\n",
       "      <th></th>\n",
       "      <th></th>\n",
       "      <th></th>\n",
       "      <th></th>\n",
       "    </tr>\n",
       "  </thead>\n",
       "  <tbody>\n",
       "    <tr>\n",
       "      <th>892420643555336193</th>\n",
       "      <td>NaN</td>\n",
       "      <td>NaN</td>\n",
       "      <td>2017-08-01 16:23:56 +0000</td>\n",
       "      <td>&lt;a href=\"http://twitter.com/download/iphone\" r...</td>\n",
       "      <td>This is Phineas. He's a mystical boy. Only eve...</td>\n",
       "      <td>NaN</td>\n",
       "      <td>NaN</td>\n",
       "      <td>NaN</td>\n",
       "      <td>https://twitter.com/dog_rates/status/892420643...</td>\n",
       "      <td>13</td>\n",
       "      <td>10</td>\n",
       "      <td>Phineas</td>\n",
       "      <td>None</td>\n",
       "      <td>None</td>\n",
       "      <td>None</td>\n",
       "      <td>None</td>\n",
       "    </tr>\n",
       "    <tr>\n",
       "      <th>892177421306343426</th>\n",
       "      <td>NaN</td>\n",
       "      <td>NaN</td>\n",
       "      <td>2017-08-01 00:17:27 +0000</td>\n",
       "      <td>&lt;a href=\"http://twitter.com/download/iphone\" r...</td>\n",
       "      <td>This is Tilly. She's just checking pup on you....</td>\n",
       "      <td>NaN</td>\n",
       "      <td>NaN</td>\n",
       "      <td>NaN</td>\n",
       "      <td>https://twitter.com/dog_rates/status/892177421...</td>\n",
       "      <td>13</td>\n",
       "      <td>10</td>\n",
       "      <td>Tilly</td>\n",
       "      <td>None</td>\n",
       "      <td>None</td>\n",
       "      <td>None</td>\n",
       "      <td>None</td>\n",
       "    </tr>\n",
       "    <tr>\n",
       "      <th>891815181378084864</th>\n",
       "      <td>NaN</td>\n",
       "      <td>NaN</td>\n",
       "      <td>2017-07-31 00:18:03 +0000</td>\n",
       "      <td>&lt;a href=\"http://twitter.com/download/iphone\" r...</td>\n",
       "      <td>This is Archie. He is a rare Norwegian Pouncin...</td>\n",
       "      <td>NaN</td>\n",
       "      <td>NaN</td>\n",
       "      <td>NaN</td>\n",
       "      <td>https://twitter.com/dog_rates/status/891815181...</td>\n",
       "      <td>12</td>\n",
       "      <td>10</td>\n",
       "      <td>Archie</td>\n",
       "      <td>None</td>\n",
       "      <td>None</td>\n",
       "      <td>None</td>\n",
       "      <td>None</td>\n",
       "    </tr>\n",
       "    <tr>\n",
       "      <th>891689557279858688</th>\n",
       "      <td>NaN</td>\n",
       "      <td>NaN</td>\n",
       "      <td>2017-07-30 15:58:51 +0000</td>\n",
       "      <td>&lt;a href=\"http://twitter.com/download/iphone\" r...</td>\n",
       "      <td>This is Darla. She commenced a snooze mid meal...</td>\n",
       "      <td>NaN</td>\n",
       "      <td>NaN</td>\n",
       "      <td>NaN</td>\n",
       "      <td>https://twitter.com/dog_rates/status/891689557...</td>\n",
       "      <td>13</td>\n",
       "      <td>10</td>\n",
       "      <td>Darla</td>\n",
       "      <td>None</td>\n",
       "      <td>None</td>\n",
       "      <td>None</td>\n",
       "      <td>None</td>\n",
       "    </tr>\n",
       "    <tr>\n",
       "      <th>891327558926688256</th>\n",
       "      <td>NaN</td>\n",
       "      <td>NaN</td>\n",
       "      <td>2017-07-29 16:00:24 +0000</td>\n",
       "      <td>&lt;a href=\"http://twitter.com/download/iphone\" r...</td>\n",
       "      <td>This is Franklin. He would like you to stop ca...</td>\n",
       "      <td>NaN</td>\n",
       "      <td>NaN</td>\n",
       "      <td>NaN</td>\n",
       "      <td>https://twitter.com/dog_rates/status/891327558...</td>\n",
       "      <td>12</td>\n",
       "      <td>10</td>\n",
       "      <td>Franklin</td>\n",
       "      <td>None</td>\n",
       "      <td>None</td>\n",
       "      <td>None</td>\n",
       "      <td>None</td>\n",
       "    </tr>\n",
       "  </tbody>\n",
       "</table>\n",
       "</div>"
      ],
      "text/plain": [
       "                    in_reply_to_status_id  in_reply_to_user_id  \\\n",
       "tweet_id                                                         \n",
       "892420643555336193                    NaN                  NaN   \n",
       "892177421306343426                    NaN                  NaN   \n",
       "891815181378084864                    NaN                  NaN   \n",
       "891689557279858688                    NaN                  NaN   \n",
       "891327558926688256                    NaN                  NaN   \n",
       "\n",
       "                                    timestamp  \\\n",
       "tweet_id                                        \n",
       "892420643555336193  2017-08-01 16:23:56 +0000   \n",
       "892177421306343426  2017-08-01 00:17:27 +0000   \n",
       "891815181378084864  2017-07-31 00:18:03 +0000   \n",
       "891689557279858688  2017-07-30 15:58:51 +0000   \n",
       "891327558926688256  2017-07-29 16:00:24 +0000   \n",
       "\n",
       "                                                               source  \\\n",
       "tweet_id                                                                \n",
       "892420643555336193  <a href=\"http://twitter.com/download/iphone\" r...   \n",
       "892177421306343426  <a href=\"http://twitter.com/download/iphone\" r...   \n",
       "891815181378084864  <a href=\"http://twitter.com/download/iphone\" r...   \n",
       "891689557279858688  <a href=\"http://twitter.com/download/iphone\" r...   \n",
       "891327558926688256  <a href=\"http://twitter.com/download/iphone\" r...   \n",
       "\n",
       "                                                                 text  \\\n",
       "tweet_id                                                                \n",
       "892420643555336193  This is Phineas. He's a mystical boy. Only eve...   \n",
       "892177421306343426  This is Tilly. She's just checking pup on you....   \n",
       "891815181378084864  This is Archie. He is a rare Norwegian Pouncin...   \n",
       "891689557279858688  This is Darla. She commenced a snooze mid meal...   \n",
       "891327558926688256  This is Franklin. He would like you to stop ca...   \n",
       "\n",
       "                    retweeted_status_id  retweeted_status_user_id  \\\n",
       "tweet_id                                                            \n",
       "892420643555336193                  NaN                       NaN   \n",
       "892177421306343426                  NaN                       NaN   \n",
       "891815181378084864                  NaN                       NaN   \n",
       "891689557279858688                  NaN                       NaN   \n",
       "891327558926688256                  NaN                       NaN   \n",
       "\n",
       "                   retweeted_status_timestamp  \\\n",
       "tweet_id                                        \n",
       "892420643555336193                        NaN   \n",
       "892177421306343426                        NaN   \n",
       "891815181378084864                        NaN   \n",
       "891689557279858688                        NaN   \n",
       "891327558926688256                        NaN   \n",
       "\n",
       "                                                        expanded_urls  \\\n",
       "tweet_id                                                                \n",
       "892420643555336193  https://twitter.com/dog_rates/status/892420643...   \n",
       "892177421306343426  https://twitter.com/dog_rates/status/892177421...   \n",
       "891815181378084864  https://twitter.com/dog_rates/status/891815181...   \n",
       "891689557279858688  https://twitter.com/dog_rates/status/891689557...   \n",
       "891327558926688256  https://twitter.com/dog_rates/status/891327558...   \n",
       "\n",
       "                    rating_numerator  rating_denominator      name doggo  \\\n",
       "tweet_id                                                                   \n",
       "892420643555336193                13                  10   Phineas  None   \n",
       "892177421306343426                13                  10     Tilly  None   \n",
       "891815181378084864                12                  10    Archie  None   \n",
       "891689557279858688                13                  10     Darla  None   \n",
       "891327558926688256                12                  10  Franklin  None   \n",
       "\n",
       "                   floofer pupper puppo  \n",
       "tweet_id                                 \n",
       "892420643555336193    None   None  None  \n",
       "892177421306343426    None   None  None  \n",
       "891815181378084864    None   None  None  \n",
       "891689557279858688    None   None  None  \n",
       "891327558926688256    None   None  None  "
      ]
     },
     "execution_count": 11,
     "metadata": {},
     "output_type": "execute_result"
    }
   ],
   "source": [
    "df_csv.head() \n",
    "#also checked\n",
    "#df_csv.head(50)\n",
    "#df_csv.tail(50)\n",
    "#df_csv.sample(50)"
   ]
  },
  {
   "cell_type": "code",
   "execution_count": 12,
   "metadata": {},
   "outputs": [
    {
     "data": {
      "text/html": [
       "<div>\n",
       "<style scoped>\n",
       "    .dataframe tbody tr th:only-of-type {\n",
       "        vertical-align: middle;\n",
       "    }\n",
       "\n",
       "    .dataframe tbody tr th {\n",
       "        vertical-align: top;\n",
       "    }\n",
       "\n",
       "    .dataframe thead th {\n",
       "        text-align: right;\n",
       "    }\n",
       "</style>\n",
       "<table border=\"1\" class=\"dataframe\">\n",
       "  <thead>\n",
       "    <tr style=\"text-align: right;\">\n",
       "      <th></th>\n",
       "      <th>jpg_url</th>\n",
       "      <th>img_num</th>\n",
       "      <th>p1</th>\n",
       "      <th>p1_conf</th>\n",
       "      <th>p1_dog</th>\n",
       "      <th>p2</th>\n",
       "      <th>p2_conf</th>\n",
       "      <th>p2_dog</th>\n",
       "      <th>p3</th>\n",
       "      <th>p3_conf</th>\n",
       "      <th>p3_dog</th>\n",
       "    </tr>\n",
       "    <tr>\n",
       "      <th>tweet_id</th>\n",
       "      <th></th>\n",
       "      <th></th>\n",
       "      <th></th>\n",
       "      <th></th>\n",
       "      <th></th>\n",
       "      <th></th>\n",
       "      <th></th>\n",
       "      <th></th>\n",
       "      <th></th>\n",
       "      <th></th>\n",
       "      <th></th>\n",
       "    </tr>\n",
       "  </thead>\n",
       "  <tbody>\n",
       "    <tr>\n",
       "      <th>666020888022790149</th>\n",
       "      <td>https://pbs.twimg.com/media/CT4udn0WwAA0aMy.jpg</td>\n",
       "      <td>1</td>\n",
       "      <td>Welsh_springer_spaniel</td>\n",
       "      <td>0.465074</td>\n",
       "      <td>True</td>\n",
       "      <td>collie</td>\n",
       "      <td>0.156665</td>\n",
       "      <td>True</td>\n",
       "      <td>Shetland_sheepdog</td>\n",
       "      <td>0.061428</td>\n",
       "      <td>True</td>\n",
       "    </tr>\n",
       "    <tr>\n",
       "      <th>666029285002620928</th>\n",
       "      <td>https://pbs.twimg.com/media/CT42GRgUYAA5iDo.jpg</td>\n",
       "      <td>1</td>\n",
       "      <td>redbone</td>\n",
       "      <td>0.506826</td>\n",
       "      <td>True</td>\n",
       "      <td>miniature_pinscher</td>\n",
       "      <td>0.074192</td>\n",
       "      <td>True</td>\n",
       "      <td>Rhodesian_ridgeback</td>\n",
       "      <td>0.072010</td>\n",
       "      <td>True</td>\n",
       "    </tr>\n",
       "    <tr>\n",
       "      <th>666033412701032449</th>\n",
       "      <td>https://pbs.twimg.com/media/CT4521TWwAEvMyu.jpg</td>\n",
       "      <td>1</td>\n",
       "      <td>German_shepherd</td>\n",
       "      <td>0.596461</td>\n",
       "      <td>True</td>\n",
       "      <td>malinois</td>\n",
       "      <td>0.138584</td>\n",
       "      <td>True</td>\n",
       "      <td>bloodhound</td>\n",
       "      <td>0.116197</td>\n",
       "      <td>True</td>\n",
       "    </tr>\n",
       "    <tr>\n",
       "      <th>666044226329800704</th>\n",
       "      <td>https://pbs.twimg.com/media/CT5Dr8HUEAA-lEu.jpg</td>\n",
       "      <td>1</td>\n",
       "      <td>Rhodesian_ridgeback</td>\n",
       "      <td>0.408143</td>\n",
       "      <td>True</td>\n",
       "      <td>redbone</td>\n",
       "      <td>0.360687</td>\n",
       "      <td>True</td>\n",
       "      <td>miniature_pinscher</td>\n",
       "      <td>0.222752</td>\n",
       "      <td>True</td>\n",
       "    </tr>\n",
       "    <tr>\n",
       "      <th>666049248165822465</th>\n",
       "      <td>https://pbs.twimg.com/media/CT5IQmsXIAAKY4A.jpg</td>\n",
       "      <td>1</td>\n",
       "      <td>miniature_pinscher</td>\n",
       "      <td>0.560311</td>\n",
       "      <td>True</td>\n",
       "      <td>Rottweiler</td>\n",
       "      <td>0.243682</td>\n",
       "      <td>True</td>\n",
       "      <td>Doberman</td>\n",
       "      <td>0.154629</td>\n",
       "      <td>True</td>\n",
       "    </tr>\n",
       "  </tbody>\n",
       "</table>\n",
       "</div>"
      ],
      "text/plain": [
       "                                                            jpg_url  img_num  \\\n",
       "tweet_id                                                                       \n",
       "666020888022790149  https://pbs.twimg.com/media/CT4udn0WwAA0aMy.jpg        1   \n",
       "666029285002620928  https://pbs.twimg.com/media/CT42GRgUYAA5iDo.jpg        1   \n",
       "666033412701032449  https://pbs.twimg.com/media/CT4521TWwAEvMyu.jpg        1   \n",
       "666044226329800704  https://pbs.twimg.com/media/CT5Dr8HUEAA-lEu.jpg        1   \n",
       "666049248165822465  https://pbs.twimg.com/media/CT5IQmsXIAAKY4A.jpg        1   \n",
       "\n",
       "                                        p1   p1_conf  p1_dog  \\\n",
       "tweet_id                                                       \n",
       "666020888022790149  Welsh_springer_spaniel  0.465074    True   \n",
       "666029285002620928                 redbone  0.506826    True   \n",
       "666033412701032449         German_shepherd  0.596461    True   \n",
       "666044226329800704     Rhodesian_ridgeback  0.408143    True   \n",
       "666049248165822465      miniature_pinscher  0.560311    True   \n",
       "\n",
       "                                    p2   p2_conf  p2_dog                   p3  \\\n",
       "tweet_id                                                                        \n",
       "666020888022790149              collie  0.156665    True    Shetland_sheepdog   \n",
       "666029285002620928  miniature_pinscher  0.074192    True  Rhodesian_ridgeback   \n",
       "666033412701032449            malinois  0.138584    True           bloodhound   \n",
       "666044226329800704             redbone  0.360687    True   miniature_pinscher   \n",
       "666049248165822465          Rottweiler  0.243682    True             Doberman   \n",
       "\n",
       "                     p3_conf  p3_dog  \n",
       "tweet_id                              \n",
       "666020888022790149  0.061428    True  \n",
       "666029285002620928  0.072010    True  \n",
       "666033412701032449  0.116197    True  \n",
       "666044226329800704  0.222752    True  \n",
       "666049248165822465  0.154629    True  "
      ]
     },
     "execution_count": 12,
     "metadata": {},
     "output_type": "execute_result"
    }
   ],
   "source": [
    "df_tsv.head() \n",
    "#also checked\n",
    "#df_tsv.head(50)\n",
    "#df_tsv.tail(50)\n",
    "#df_tsv.sample(50)"
   ]
  },
  {
   "cell_type": "code",
   "execution_count": 13,
   "metadata": {},
   "outputs": [
    {
     "data": {
      "text/html": [
       "<div>\n",
       "<style scoped>\n",
       "    .dataframe tbody tr th:only-of-type {\n",
       "        vertical-align: middle;\n",
       "    }\n",
       "\n",
       "    .dataframe tbody tr th {\n",
       "        vertical-align: top;\n",
       "    }\n",
       "\n",
       "    .dataframe thead th {\n",
       "        text-align: right;\n",
       "    }\n",
       "</style>\n",
       "<table border=\"1\" class=\"dataframe\">\n",
       "  <thead>\n",
       "    <tr style=\"text-align: right;\">\n",
       "      <th></th>\n",
       "      <th>tweet_id</th>\n",
       "      <th>created_at</th>\n",
       "      <th>favorite_count</th>\n",
       "      <th>retweet_count</th>\n",
       "      <th>tweet_status_ok</th>\n",
       "    </tr>\n",
       "  </thead>\n",
       "  <tbody>\n",
       "    <tr>\n",
       "      <th>0</th>\n",
       "      <td>892420643555336193</td>\n",
       "      <td>2017-08-01 16:23:56</td>\n",
       "      <td>36600</td>\n",
       "      <td>7789</td>\n",
       "      <td>True</td>\n",
       "    </tr>\n",
       "    <tr>\n",
       "      <th>1</th>\n",
       "      <td>892177421306343426</td>\n",
       "      <td>2017-08-01 00:17:27</td>\n",
       "      <td>31536</td>\n",
       "      <td>5771</td>\n",
       "      <td>True</td>\n",
       "    </tr>\n",
       "    <tr>\n",
       "      <th>2</th>\n",
       "      <td>891815181378084864</td>\n",
       "      <td>2017-07-31 00:18:03</td>\n",
       "      <td>23755</td>\n",
       "      <td>3820</td>\n",
       "      <td>True</td>\n",
       "    </tr>\n",
       "    <tr>\n",
       "      <th>3</th>\n",
       "      <td>891689557279858688</td>\n",
       "      <td>2017-07-30 15:58:51</td>\n",
       "      <td>39927</td>\n",
       "      <td>7961</td>\n",
       "      <td>True</td>\n",
       "    </tr>\n",
       "    <tr>\n",
       "      <th>4</th>\n",
       "      <td>891327558926688256</td>\n",
       "      <td>2017-07-29 16:00:24</td>\n",
       "      <td>38124</td>\n",
       "      <td>8598</td>\n",
       "      <td>True</td>\n",
       "    </tr>\n",
       "  </tbody>\n",
       "</table>\n",
       "</div>"
      ],
      "text/plain": [
       "             tweet_id           created_at favorite_count retweet_count  \\\n",
       "0  892420643555336193  2017-08-01 16:23:56          36600          7789   \n",
       "1  892177421306343426  2017-08-01 00:17:27          31536          5771   \n",
       "2  891815181378084864  2017-07-31 00:18:03          23755          3820   \n",
       "3  891689557279858688  2017-07-30 15:58:51          39927          7961   \n",
       "4  891327558926688256  2017-07-29 16:00:24          38124          8598   \n",
       "\n",
       "  tweet_status_ok  \n",
       "0            True  \n",
       "1            True  \n",
       "2            True  \n",
       "3            True  \n",
       "4            True  "
      ]
     },
     "execution_count": 13,
     "metadata": {},
     "output_type": "execute_result"
    }
   ],
   "source": [
    "df_json.head()\n",
    "#also checked\n",
    "#df_json.head(50)\n",
    "#df_json.tail(50)\n",
    "#df_json.sample(50)"
   ]
  },
  {
   "cell_type": "markdown",
   "metadata": {},
   "source": [
    "#### Quality issues:\n",
    "> **`df_csv`:** \n",
    "* `source` is in form of a html tag.\n",
    "* Some `name`s are null.\n",
    "* There is a `+0000` at the end the time in `timestamp` column.\n",
    "* There is a `+0000` at the end the time in `retweeted_status_timestamp` column (if it is not null).\n",
    "* Nulls represented as None in `doggo`, `floofer`,`pupper` and `puppo` columns.\n",
    "* In the `name` column, there are several `None` values.\n",
    "\n",
    ">**`df_tsv`:**\n",
    "* Some values include underlines in `p1` and `p2` columns.\n",
    "* Values in `p1` and `p1` are not consistant (Capital or not). \n",
    "\n",
    ">**`df_json`:**\n",
    "* No considerable visual issue\n",
    "\n",
    "#### Tidiness issues:\n",
    "> **`df_csv`:** \n",
    "* Four seprated columns for  `doggo`, `floofer`,`pupper` and `puppo` instead of one column as `stage`.\n",
    "* We are only intrested on tweets not retweets or replys.\n",
    "\n",
    ">**`df_tsv`:**\n",
    "* Columns' title are not descriptive.\n",
    "\n",
    ">**`df_json`:**\n",
    "* `tweet_id` should be index of the table"
   ]
  },
  {
   "cell_type": "markdown",
   "metadata": {},
   "source": [
    "### Programatical Assesment"
   ]
  },
  {
   "cell_type": "code",
   "execution_count": 14,
   "metadata": {},
   "outputs": [
    {
     "name": "stdout",
     "output_type": "stream",
     "text": [
      "<class 'pandas.core.frame.DataFrame'>\n",
      "Int64Index: 2356 entries, 892420643555336193 to 666020888022790149\n",
      "Data columns (total 16 columns):\n",
      "in_reply_to_status_id         78 non-null float64\n",
      "in_reply_to_user_id           78 non-null float64\n",
      "timestamp                     2356 non-null object\n",
      "source                        2356 non-null object\n",
      "text                          2356 non-null object\n",
      "retweeted_status_id           181 non-null float64\n",
      "retweeted_status_user_id      181 non-null float64\n",
      "retweeted_status_timestamp    181 non-null object\n",
      "expanded_urls                 2297 non-null object\n",
      "rating_numerator              2356 non-null int64\n",
      "rating_denominator            2356 non-null int64\n",
      "name                          2356 non-null object\n",
      "doggo                         2356 non-null object\n",
      "floofer                       2356 non-null object\n",
      "pupper                        2356 non-null object\n",
      "puppo                         2356 non-null object\n",
      "dtypes: float64(4), int64(2), object(10)\n",
      "memory usage: 312.9+ KB\n"
     ]
    }
   ],
   "source": [
    "df_csv.info()"
   ]
  },
  {
   "cell_type": "code",
   "execution_count": 15,
   "metadata": {},
   "outputs": [
    {
     "data": {
      "text/html": [
       "<div>\n",
       "<style scoped>\n",
       "    .dataframe tbody tr th:only-of-type {\n",
       "        vertical-align: middle;\n",
       "    }\n",
       "\n",
       "    .dataframe tbody tr th {\n",
       "        vertical-align: top;\n",
       "    }\n",
       "\n",
       "    .dataframe thead th {\n",
       "        text-align: right;\n",
       "    }\n",
       "</style>\n",
       "<table border=\"1\" class=\"dataframe\">\n",
       "  <thead>\n",
       "    <tr style=\"text-align: right;\">\n",
       "      <th></th>\n",
       "      <th>in_reply_to_status_id</th>\n",
       "      <th>in_reply_to_user_id</th>\n",
       "      <th>retweeted_status_id</th>\n",
       "      <th>retweeted_status_user_id</th>\n",
       "      <th>rating_numerator</th>\n",
       "      <th>rating_denominator</th>\n",
       "    </tr>\n",
       "  </thead>\n",
       "  <tbody>\n",
       "    <tr>\n",
       "      <th>count</th>\n",
       "      <td>7.800000e+01</td>\n",
       "      <td>7.800000e+01</td>\n",
       "      <td>1.810000e+02</td>\n",
       "      <td>1.810000e+02</td>\n",
       "      <td>2356.000000</td>\n",
       "      <td>2356.000000</td>\n",
       "    </tr>\n",
       "    <tr>\n",
       "      <th>mean</th>\n",
       "      <td>7.455079e+17</td>\n",
       "      <td>2.014171e+16</td>\n",
       "      <td>7.720400e+17</td>\n",
       "      <td>1.241698e+16</td>\n",
       "      <td>13.126486</td>\n",
       "      <td>10.455433</td>\n",
       "    </tr>\n",
       "    <tr>\n",
       "      <th>std</th>\n",
       "      <td>7.582492e+16</td>\n",
       "      <td>1.252797e+17</td>\n",
       "      <td>6.236928e+16</td>\n",
       "      <td>9.599254e+16</td>\n",
       "      <td>45.876648</td>\n",
       "      <td>6.745237</td>\n",
       "    </tr>\n",
       "    <tr>\n",
       "      <th>min</th>\n",
       "      <td>6.658147e+17</td>\n",
       "      <td>1.185634e+07</td>\n",
       "      <td>6.661041e+17</td>\n",
       "      <td>7.832140e+05</td>\n",
       "      <td>0.000000</td>\n",
       "      <td>0.000000</td>\n",
       "    </tr>\n",
       "    <tr>\n",
       "      <th>25%</th>\n",
       "      <td>6.757419e+17</td>\n",
       "      <td>3.086374e+08</td>\n",
       "      <td>7.186315e+17</td>\n",
       "      <td>4.196984e+09</td>\n",
       "      <td>10.000000</td>\n",
       "      <td>10.000000</td>\n",
       "    </tr>\n",
       "    <tr>\n",
       "      <th>50%</th>\n",
       "      <td>7.038708e+17</td>\n",
       "      <td>4.196984e+09</td>\n",
       "      <td>7.804657e+17</td>\n",
       "      <td>4.196984e+09</td>\n",
       "      <td>11.000000</td>\n",
       "      <td>10.000000</td>\n",
       "    </tr>\n",
       "    <tr>\n",
       "      <th>75%</th>\n",
       "      <td>8.257804e+17</td>\n",
       "      <td>4.196984e+09</td>\n",
       "      <td>8.203146e+17</td>\n",
       "      <td>4.196984e+09</td>\n",
       "      <td>12.000000</td>\n",
       "      <td>10.000000</td>\n",
       "    </tr>\n",
       "    <tr>\n",
       "      <th>max</th>\n",
       "      <td>8.862664e+17</td>\n",
       "      <td>8.405479e+17</td>\n",
       "      <td>8.874740e+17</td>\n",
       "      <td>7.874618e+17</td>\n",
       "      <td>1776.000000</td>\n",
       "      <td>170.000000</td>\n",
       "    </tr>\n",
       "  </tbody>\n",
       "</table>\n",
       "</div>"
      ],
      "text/plain": [
       "       in_reply_to_status_id  in_reply_to_user_id  retweeted_status_id  \\\n",
       "count           7.800000e+01         7.800000e+01         1.810000e+02   \n",
       "mean            7.455079e+17         2.014171e+16         7.720400e+17   \n",
       "std             7.582492e+16         1.252797e+17         6.236928e+16   \n",
       "min             6.658147e+17         1.185634e+07         6.661041e+17   \n",
       "25%             6.757419e+17         3.086374e+08         7.186315e+17   \n",
       "50%             7.038708e+17         4.196984e+09         7.804657e+17   \n",
       "75%             8.257804e+17         4.196984e+09         8.203146e+17   \n",
       "max             8.862664e+17         8.405479e+17         8.874740e+17   \n",
       "\n",
       "       retweeted_status_user_id  rating_numerator  rating_denominator  \n",
       "count              1.810000e+02       2356.000000         2356.000000  \n",
       "mean               1.241698e+16         13.126486           10.455433  \n",
       "std                9.599254e+16         45.876648            6.745237  \n",
       "min                7.832140e+05          0.000000            0.000000  \n",
       "25%                4.196984e+09         10.000000           10.000000  \n",
       "50%                4.196984e+09         11.000000           10.000000  \n",
       "75%                4.196984e+09         12.000000           10.000000  \n",
       "max                7.874618e+17       1776.000000          170.000000  "
      ]
     },
     "execution_count": 15,
     "metadata": {},
     "output_type": "execute_result"
    }
   ],
   "source": [
    "df_csv.describe()"
   ]
  },
  {
   "cell_type": "code",
   "execution_count": 16,
   "metadata": {},
   "outputs": [
    {
     "name": "stdout",
     "output_type": "stream",
     "text": [
      "doggo and floofer:  1\n",
      "doggo and pupper:   12\n",
      "doggo and puppo:    1\n",
      "0\n",
      "0\n",
      "0\n",
      "0\n",
      "0\n",
      "0\n",
      "0\n",
      "0\n"
     ]
    }
   ],
   "source": [
    "# Check if a dog has more than one stages\n",
    "print('doggo and floofer: ',df_csv.query('(doggo == \"doggo\" and floofer == \"floofer\")').shape[0])\n",
    "print('doggo and pupper:  ',df_csv.query('(doggo == \"doggo\" and pupper == \"pupper\")').shape[0])\n",
    "print('doggo and puppo:   ', df_csv.query('(doggo == \"doggo\" and puppo == \"puppo\")').shape[0])\n",
    "print(df_csv.query('(floofer == \"floofer\" and puppo == \"puppo\")').shape[0])\n",
    "print(df_csv.query('(floofer == \"floofer\" and pupper == \"pupper\")').shape[0])\n",
    "print(df_csv.query('(puppo == \"puppo\" and pupper == \"pupper\")').shape[0])\n",
    "print(df_csv.query('pupper == \"pupper\" and doggo == \"doggo\" and floofer == \"floofer\"').shape[0])\n",
    "print(df_csv.query('puppo == \"puppo\" and doggo == \"doggo\" and floofer == \"floofer\"').shape[0])\n",
    "print(df_csv.query('puppo == \"puppo\" and pupper == \"pupper\" and floofer == \"floofer\"').shape[0])\n",
    "print(df_csv.query('puppo == \"puppo\" and pupper == \"pupper\" and doggo == \"doggo\"').shape[0])\n",
    "print(df_csv.query('puppo == \"puppo\" and pupper == \"pupper\" and doggo == \"doggo\" and floofer == \"floofer\"').shape[0])"
   ]
  },
  {
   "cell_type": "code",
   "execution_count": 17,
   "metadata": {},
   "outputs": [
    {
     "data": {
      "text/plain": [
       "None       745\n",
       "a           55\n",
       "Charlie     12\n",
       "Oliver      11\n",
       "Cooper      11\n",
       "Lucy        11\n",
       "Tucker      10\n",
       "Penny       10\n",
       "Lola        10\n",
       "Winston      9\n",
       "Name: name, dtype: int64"
      ]
     },
     "execution_count": 17,
     "metadata": {},
     "output_type": "execute_result"
    }
   ],
   "source": [
    "# Check name values\n",
    "df_csv['name'].value_counts().head(10)"
   ]
  },
  {
   "cell_type": "code",
   "execution_count": 18,
   "metadata": {},
   "outputs": [
    {
     "data": {
      "text/plain": [
       "a               55\n",
       "the              8\n",
       "an               7\n",
       "very             5\n",
       "just             4\n",
       "quite            4\n",
       "one              4\n",
       "mad              2\n",
       "getting          2\n",
       "not              2\n",
       "actually         2\n",
       "my               1\n",
       "all              1\n",
       "light            1\n",
       "such             1\n",
       "incredibly       1\n",
       "officially       1\n",
       "infuriating      1\n",
       "this             1\n",
       "unacceptable     1\n",
       "life             1\n",
       "by               1\n",
       "his              1\n",
       "old              1\n",
       "space            1\n",
       "Name: name, dtype: int64"
      ]
     },
     "execution_count": 18,
     "metadata": {},
     "output_type": "execute_result"
    }
   ],
   "source": [
    "# Check names that the first letter is lower case. Most probably they are not valid names.\n",
    "lower_case_names = df_csv['name'].apply(lambda x : x[:1].islower())\n",
    "df_csv[lower_case_names]['name'].value_counts()"
   ]
  },
  {
   "cell_type": "code",
   "execution_count": 19,
   "metadata": {},
   "outputs": [
    {
     "name": "stdout",
     "output_type": "stream",
     "text": [
      "<class 'pandas.core.frame.DataFrame'>\n",
      "Int64Index: 2075 entries, 666020888022790149 to 892420643555336193\n",
      "Data columns (total 11 columns):\n",
      "jpg_url    2075 non-null object\n",
      "img_num    2075 non-null int64\n",
      "p1         2075 non-null object\n",
      "p1_conf    2075 non-null float64\n",
      "p1_dog     2075 non-null bool\n",
      "p2         2075 non-null object\n",
      "p2_conf    2075 non-null float64\n",
      "p2_dog     2075 non-null bool\n",
      "p3         2075 non-null object\n",
      "p3_conf    2075 non-null float64\n",
      "p3_dog     2075 non-null bool\n",
      "dtypes: bool(3), float64(3), int64(1), object(4)\n",
      "memory usage: 152.0+ KB\n"
     ]
    }
   ],
   "source": [
    "df_tsv.info()"
   ]
  },
  {
   "cell_type": "code",
   "execution_count": 20,
   "metadata": {},
   "outputs": [
    {
     "data": {
      "text/html": [
       "<div>\n",
       "<style scoped>\n",
       "    .dataframe tbody tr th:only-of-type {\n",
       "        vertical-align: middle;\n",
       "    }\n",
       "\n",
       "    .dataframe tbody tr th {\n",
       "        vertical-align: top;\n",
       "    }\n",
       "\n",
       "    .dataframe thead th {\n",
       "        text-align: right;\n",
       "    }\n",
       "</style>\n",
       "<table border=\"1\" class=\"dataframe\">\n",
       "  <thead>\n",
       "    <tr style=\"text-align: right;\">\n",
       "      <th></th>\n",
       "      <th>img_num</th>\n",
       "      <th>p1_conf</th>\n",
       "      <th>p2_conf</th>\n",
       "      <th>p3_conf</th>\n",
       "    </tr>\n",
       "  </thead>\n",
       "  <tbody>\n",
       "    <tr>\n",
       "      <th>count</th>\n",
       "      <td>2075.000000</td>\n",
       "      <td>2075.000000</td>\n",
       "      <td>2.075000e+03</td>\n",
       "      <td>2.075000e+03</td>\n",
       "    </tr>\n",
       "    <tr>\n",
       "      <th>mean</th>\n",
       "      <td>1.203855</td>\n",
       "      <td>0.594548</td>\n",
       "      <td>1.345886e-01</td>\n",
       "      <td>6.032417e-02</td>\n",
       "    </tr>\n",
       "    <tr>\n",
       "      <th>std</th>\n",
       "      <td>0.561875</td>\n",
       "      <td>0.271174</td>\n",
       "      <td>1.006657e-01</td>\n",
       "      <td>5.090593e-02</td>\n",
       "    </tr>\n",
       "    <tr>\n",
       "      <th>min</th>\n",
       "      <td>1.000000</td>\n",
       "      <td>0.044333</td>\n",
       "      <td>1.011300e-08</td>\n",
       "      <td>1.740170e-10</td>\n",
       "    </tr>\n",
       "    <tr>\n",
       "      <th>25%</th>\n",
       "      <td>1.000000</td>\n",
       "      <td>0.364412</td>\n",
       "      <td>5.388625e-02</td>\n",
       "      <td>1.622240e-02</td>\n",
       "    </tr>\n",
       "    <tr>\n",
       "      <th>50%</th>\n",
       "      <td>1.000000</td>\n",
       "      <td>0.588230</td>\n",
       "      <td>1.181810e-01</td>\n",
       "      <td>4.944380e-02</td>\n",
       "    </tr>\n",
       "    <tr>\n",
       "      <th>75%</th>\n",
       "      <td>1.000000</td>\n",
       "      <td>0.843855</td>\n",
       "      <td>1.955655e-01</td>\n",
       "      <td>9.180755e-02</td>\n",
       "    </tr>\n",
       "    <tr>\n",
       "      <th>max</th>\n",
       "      <td>4.000000</td>\n",
       "      <td>1.000000</td>\n",
       "      <td>4.880140e-01</td>\n",
       "      <td>2.734190e-01</td>\n",
       "    </tr>\n",
       "  </tbody>\n",
       "</table>\n",
       "</div>"
      ],
      "text/plain": [
       "           img_num      p1_conf       p2_conf       p3_conf\n",
       "count  2075.000000  2075.000000  2.075000e+03  2.075000e+03\n",
       "mean      1.203855     0.594548  1.345886e-01  6.032417e-02\n",
       "std       0.561875     0.271174  1.006657e-01  5.090593e-02\n",
       "min       1.000000     0.044333  1.011300e-08  1.740170e-10\n",
       "25%       1.000000     0.364412  5.388625e-02  1.622240e-02\n",
       "50%       1.000000     0.588230  1.181810e-01  4.944380e-02\n",
       "75%       1.000000     0.843855  1.955655e-01  9.180755e-02\n",
       "max       4.000000     1.000000  4.880140e-01  2.734190e-01"
      ]
     },
     "execution_count": 20,
     "metadata": {},
     "output_type": "execute_result"
    }
   ],
   "source": [
    "df_tsv.describe()"
   ]
  },
  {
   "cell_type": "code",
   "execution_count": 21,
   "metadata": {},
   "outputs": [
    {
     "data": {
      "text/plain": [
       "0"
      ]
     },
     "execution_count": 21,
     "metadata": {},
     "output_type": "execute_result"
    }
   ],
   "source": [
    "# Check if there config value order is correct\n",
    "df_tsv.query('(p3_conf > p2_conf) or (p2_conf > p1_conf)').shape[0]"
   ]
  },
  {
   "cell_type": "code",
   "execution_count": 22,
   "metadata": {},
   "outputs": [
    {
     "data": {
      "text/plain": [
       "True     1532\n",
       "False     543\n",
       "Name: p1_dog, dtype: int64"
      ]
     },
     "execution_count": 22,
     "metadata": {},
     "output_type": "execute_result"
    }
   ],
   "source": [
    "#Check the p1_dog column to make sure we have only true and false\n",
    "df_tsv['p1_dog'].value_counts()\n",
    "#Also checked\n",
    "#df_tsv['p2_dog'].value_counts()\n",
    "#df_tsv['p3_dog'].value_counts()"
   ]
  },
  {
   "cell_type": "code",
   "execution_count": 23,
   "metadata": {},
   "outputs": [
    {
     "name": "stdout",
     "output_type": "stream",
     "text": [
      "<class 'pandas.core.frame.DataFrame'>\n",
      "RangeIndex: 2356 entries, 0 to 2355\n",
      "Data columns (total 5 columns):\n",
      "tweet_id           2356 non-null object\n",
      "created_at         2356 non-null object\n",
      "favorite_count     2356 non-null object\n",
      "retweet_count      2356 non-null object\n",
      "tweet_status_ok    2356 non-null object\n",
      "dtypes: object(5)\n",
      "memory usage: 92.1+ KB\n"
     ]
    }
   ],
   "source": [
    "df_json.info()"
   ]
  },
  {
   "cell_type": "code",
   "execution_count": 24,
   "metadata": {},
   "outputs": [
    {
     "data": {
      "text/html": [
       "<div>\n",
       "<style scoped>\n",
       "    .dataframe tbody tr th:only-of-type {\n",
       "        vertical-align: middle;\n",
       "    }\n",
       "\n",
       "    .dataframe tbody tr th {\n",
       "        vertical-align: top;\n",
       "    }\n",
       "\n",
       "    .dataframe thead th {\n",
       "        text-align: right;\n",
       "    }\n",
       "</style>\n",
       "<table border=\"1\" class=\"dataframe\">\n",
       "  <thead>\n",
       "    <tr style=\"text-align: right;\">\n",
       "      <th></th>\n",
       "      <th>tweet_id</th>\n",
       "      <th>created_at</th>\n",
       "      <th>favorite_count</th>\n",
       "      <th>retweet_count</th>\n",
       "      <th>tweet_status_ok</th>\n",
       "    </tr>\n",
       "  </thead>\n",
       "  <tbody>\n",
       "    <tr>\n",
       "      <th>count</th>\n",
       "      <td>2356</td>\n",
       "      <td>2356</td>\n",
       "      <td>2356</td>\n",
       "      <td>2356</td>\n",
       "      <td>2356</td>\n",
       "    </tr>\n",
       "    <tr>\n",
       "      <th>unique</th>\n",
       "      <td>2356</td>\n",
       "      <td>2331</td>\n",
       "      <td>1975</td>\n",
       "      <td>1677</td>\n",
       "      <td>1</td>\n",
       "    </tr>\n",
       "    <tr>\n",
       "      <th>top</th>\n",
       "      <td>667495797102141441</td>\n",
       "      <td>2017-06-08 14:20:41</td>\n",
       "      <td>0</td>\n",
       "      <td>281</td>\n",
       "      <td>True</td>\n",
       "    </tr>\n",
       "    <tr>\n",
       "      <th>freq</th>\n",
       "      <td>1</td>\n",
       "      <td>2</td>\n",
       "      <td>164</td>\n",
       "      <td>5</td>\n",
       "      <td>2356</td>\n",
       "    </tr>\n",
       "  </tbody>\n",
       "</table>\n",
       "</div>"
      ],
      "text/plain": [
       "                  tweet_id           created_at  favorite_count  \\\n",
       "count                 2356                 2356            2356   \n",
       "unique                2356                 2331            1975   \n",
       "top     667495797102141441  2017-06-08 14:20:41               0   \n",
       "freq                     1                    2             164   \n",
       "\n",
       "        retweet_count tweet_status_ok  \n",
       "count            2356            2356  \n",
       "unique           1677               1  \n",
       "top               281            True  \n",
       "freq                5            2356  "
      ]
     },
     "execution_count": 24,
     "metadata": {},
     "output_type": "execute_result"
    }
   ],
   "source": [
    "df_json.describe()"
   ]
  },
  {
   "cell_type": "markdown",
   "metadata": {},
   "source": [
    "#### Quality issues:\n",
    "> **`df_csv`:** \n",
    "* There is values other than 10 for `rating_denominator`. Values such as 170, 150 and 2 do not look logical in this column.\n",
    "* Expected value for `rating_numerator` is between `10` and `15` but we have values such as 201, 1776, 1 and etc.\n",
    "* Data type for `timestamp` is string (object) it should be datetime\n",
    "* 14 of the dogs has more than one stages.\n",
    "* 745 names are None.\n",
    "* There are some invalid names such as `a`, `an`, `the`, `very`etc.\n",
    "\n",
    "\n",
    ">**`df_tsv`:**\n",
    "* No considerable issue\n",
    "\n",
    ">**`df_json`:**\n",
    "* No considerable issue\n",
    "\n",
    "#### Tidiness issues:\n",
    "\n",
    "* No considerable  issue\n"
   ]
  },
  {
   "cell_type": "markdown",
   "metadata": {},
   "source": [
    "### All the issues combined:\n",
    "#### Quality issues:\n",
    "> **`df_csv`:** \n",
    "* `source` is in the form of an html tag.\n",
    "* There is a `+0000` at the end the time in the `timestamp` column.\n",
    "* There is a `+0000` at the end the time in the `retweeted_status_timestamp` column (if it is not null).\n",
    "* Nulls represented as None in `doggo`, `floofer`,`pupper` and `puppo` columns.\n",
    "* In the `name` column, there are several `None` values.\n",
    "* There is values other than 10 for `rating_denominator`. Values such as 170, 150 and 2 do not look logical in this column.\n",
    "* Expected value for `rating_numerator` is between `10` and `15` but we have values such as 201, 1776, 1 and etc.\n",
    "* Data type for `timestamp` is string (object) it should be DateTime\n",
    "* 14 of the dogs has more than one stages.\n",
    "* There are some invalid names such as `a`, `an`, `the`, `very`etc.\n",
    "\n",
    ">**`df_tsv`:**\n",
    "* Values in `p1` and `p1` are not consistant (Capital or not). \n",
    "\n",
    ">**`df_json`:**\n",
    "* No considerable visual issue\n",
    "\n",
    "#### Tidiness issues:\n",
    "> **`df_csv`:** \n",
    "* Four seprated columns for  `doggo`, `floofer`,`pupper` and `puppo` instead of one column as `stage`.\n",
    "* We are only intrested on tweets not retweets or replys.\n",
    "\n",
    ">**`df_tsv`:**\n",
    "* Columns' title are not descriptive.\n",
    "\n",
    ">**`df_json`:**\n",
    "* `tweet_id` should be index of the table"
   ]
  },
  {
   "cell_type": "markdown",
   "metadata": {},
   "source": [
    "--------------"
   ]
  },
  {
   "cell_type": "markdown",
   "metadata": {},
   "source": [
    "<a id='Cleaning'></a>\n",
    "# Cleaning\n",
    "I will address all the issues found in the assessment phase."
   ]
  },
  {
   "cell_type": "code",
   "execution_count": 135,
   "metadata": {},
   "outputs": [],
   "source": [
    "# Make a copy of each dataframe\n",
    "df_csv_clean = df_csv.copy()\n",
    "df_tsv_clean = df_tsv.copy()\n",
    "df_json_clean = df_json.copy()"
   ]
  },
  {
   "cell_type": "markdown",
   "metadata": {},
   "source": [
    "#### Define (1)\n",
    "`name column`: Convert None to NaN. (Handel missing values) (We cannot do anything about the null names but at least we can convert then to NaN so we know we have null values)\n",
    "\n",
    "#### Code"
   ]
  },
  {
   "cell_type": "code",
   "execution_count": 136,
   "metadata": {},
   "outputs": [],
   "source": [
    "# 1. Convert None to NaN. (Handel missing values)\n",
    "# Code: \n",
    "df_csv_clean.name.replace('None', np.NaN,inplace = True)\n",
    "# 745 records updated"
   ]
  },
  {
   "cell_type": "markdown",
   "metadata": {},
   "source": [
    "#### Test"
   ]
  },
  {
   "cell_type": "code",
   "execution_count": 137,
   "metadata": {},
   "outputs": [
    {
     "name": "stdout",
     "output_type": "stream",
     "text": [
      "0\n",
      "745\n"
     ]
    }
   ],
   "source": [
    "# Test:\n",
    "print(df_csv_clean.query('name == \"None\"').shape[0])\n",
    "print(df_csv_clean[df_csv_clean['name'].isna()].shape[0])"
   ]
  },
  {
   "cell_type": "markdown",
   "metadata": {},
   "source": [
    "______________________________\n",
    "#### Define (2)\n",
    "`doggo, floofer,pupper and puppo columns`: Convert None to NaN.(Handel missing values)\n",
    "\n",
    "#### Code"
   ]
  },
  {
   "cell_type": "code",
   "execution_count": 138,
   "metadata": {},
   "outputs": [],
   "source": [
    "# 2. Convert None to NaN on doggo, floofer,pupper and puppo columns.(Handel missing values)\n",
    "# Code:\n",
    "df_csv_clean.doggo.replace('None', np.NaN,inplace = True)\n",
    "df_csv_clean.floofer.replace('None', np.NaN,inplace = True)\n",
    "df_csv_clean.pupper.replace('None', np.NaN,inplace = True)\n",
    "df_csv_clean.puppo.replace('None', np.NaN,inplace = True)"
   ]
  },
  {
   "cell_type": "markdown",
   "metadata": {},
   "source": [
    "#### Test"
   ]
  },
  {
   "cell_type": "code",
   "execution_count": 139,
   "metadata": {},
   "outputs": [
    {
     "name": "stdout",
     "output_type": "stream",
     "text": [
      "doggo:\n",
      "0\n",
      "2259\n",
      "floofer:\n",
      "0\n",
      "2346\n",
      "pupper:\n",
      "0\n",
      "2099\n",
      "puppo:\n",
      "0\n",
      "2326\n"
     ]
    }
   ],
   "source": [
    "# Test\n",
    "print('doggo:')\n",
    "print(df_csv_clean.query('doggo == \"None\"').shape[0])\n",
    "print(df_csv_clean[df_csv_clean['doggo'].isna()].shape[0])\n",
    "print('floofer:')\n",
    "print(df_csv_clean.query('floofer == \"None\"').shape[0])\n",
    "print(df_csv_clean[df_csv_clean['floofer'].isna()].shape[0])\n",
    "print('pupper:')\n",
    "print(df_csv_clean.query('pupper == \"None\"').shape[0])\n",
    "print(df_csv_clean[df_csv_clean['pupper'].isna()].shape[0])\n",
    "print('puppo:')\n",
    "print(df_csv_clean.query('puppo == \"None\"').shape[0])\n",
    "print(df_csv_clean[df_csv_clean['puppo'].isna()].shape[0])"
   ]
  },
  {
   "cell_type": "markdown",
   "metadata": {},
   "source": [
    "______________________________\n",
    "#### Define (3)\n",
    "`reply and retweet columns`: remove rows and columns related to retweets and replys.\n",
    "\n",
    "#### Code"
   ]
  },
  {
   "cell_type": "code",
   "execution_count": 140,
   "metadata": {},
   "outputs": [],
   "source": [
    "# Drop rows\n",
    "df_csv_clean = df_csv_clean[df_csv_clean.in_reply_to_status_id.isna()]\n",
    "df_csv_clean = df_csv_clean[df_csv_clean.retweeted_status_id.isna()]\n",
    "\n",
    "# Drop columns\n",
    "df_csv_clean.drop(columns= ['in_reply_to_status_id',\n",
    "                            'in_reply_to_user_id',\n",
    "                            'retweeted_status_id',\n",
    "                            'retweeted_status_user_id',\n",
    "                            'retweeted_status_timestamp'], inplace=True)"
   ]
  },
  {
   "cell_type": "markdown",
   "metadata": {},
   "source": [
    "#### Test"
   ]
  },
  {
   "cell_type": "code",
   "execution_count": 141,
   "metadata": {},
   "outputs": [
    {
     "name": "stdout",
     "output_type": "stream",
     "text": [
      "<class 'pandas.core.frame.DataFrame'>\n",
      "Int64Index: 2097 entries, 892420643555336193 to 666020888022790149\n",
      "Data columns (total 11 columns):\n",
      "timestamp             2097 non-null object\n",
      "source                2097 non-null object\n",
      "text                  2097 non-null object\n",
      "expanded_urls         2094 non-null object\n",
      "rating_numerator      2097 non-null int64\n",
      "rating_denominator    2097 non-null int64\n",
      "name                  1494 non-null object\n",
      "doggo                 83 non-null object\n",
      "floofer               10 non-null object\n",
      "pupper                230 non-null object\n",
      "puppo                 24 non-null object\n",
      "dtypes: int64(2), object(9)\n",
      "memory usage: 196.6+ KB\n"
     ]
    }
   ],
   "source": [
    "df_csv_clean.info()"
   ]
  },
  {
   "cell_type": "markdown",
   "metadata": {},
   "source": [
    "_________________________________\n",
    "#### Define (4)\n",
    "`Stage`: Read the text for 14 dogs with more than one stages and fix the stage based on the text.\n",
    ">* Create stage_parity column to identify the dogs with more than one stage \n",
    "* Save the 14 records to a csv file\n",
    "* Read the text and update the stage manually\n",
    "* If the stage is not identifiable from the text remove it\n",
    "\n",
    "#### Code"
   ]
  },
  {
   "cell_type": "code",
   "execution_count": 142,
   "metadata": {},
   "outputs": [],
   "source": [
    "# 3. Deside about 14 dogs with more than one stage.\n",
    "dog_stages=['doggo', 'floofer','pupper', 'puppo']\n",
    "for stg in dog_stages:\n",
    "    df_csv_clean[stg] = df_csv_clean[stg].apply(lambda x: (dog_stages.index(stg)+1) if x==stg else 0)\n",
    "    \n",
    "df_csv_clean['stage_parity'] = df_csv_clean.apply(lambda x: str(x['doggo'])+ str(x['floofer'])+ str(x['pupper'])+ str(x['puppo']), axis=1)"
   ]
  },
  {
   "cell_type": "code",
   "execution_count": 143,
   "metadata": {},
   "outputs": [
    {
     "data": {
      "text/plain": [
       "0000    1761\n",
       "0030    221 \n",
       "1000    72  \n",
       "0004    23  \n",
       "0200    9   \n",
       "1030    9   \n",
       "1200    1   \n",
       "1004    1   \n",
       "Name: stage_parity, dtype: int64"
      ]
     },
     "execution_count": 143,
     "metadata": {},
     "output_type": "execute_result"
    }
   ],
   "source": [
    "# Test: every value for stage_parity other than 0000, 1000, 0200, 0030 and 0004 are rows with more than one stages.\n",
    "df_csv_clean['stage_parity'].value_counts()"
   ]
  },
  {
   "cell_type": "code",
   "execution_count": 144,
   "metadata": {},
   "outputs": [],
   "source": [
    "invalid_stages = df_csv_clean.query('stage_parity in (\"1030\",\"1004\",\"1200\")').index"
   ]
  },
  {
   "cell_type": "code",
   "execution_count": 145,
   "metadata": {},
   "outputs": [],
   "source": [
    "# Investigate the text of these tweets visually to see if we can set the correct stage\n",
    "df_csv_clean.query('tweet_id in @invalid_stages').to_csv('wrong_stage.csv')\n",
    "\n",
    "# Read the fixed version\n",
    "fixed_stages = pd.read_csv('wrong_stage_fixed.csv', index_col = 'tweet_id')"
   ]
  },
  {
   "cell_type": "code",
   "execution_count": 146,
   "metadata": {},
   "outputs": [],
   "source": [
    "# Drop tweets with more than one stage\n",
    "df_csv_clean.drop(invalid_stages, inplace = True)\n",
    "\n",
    "# Combine the fixed tweets\n",
    "df_csv_clean = pd.concat([df_csv_clean, fixed_stages], axis=0)"
   ]
  },
  {
   "cell_type": "code",
   "execution_count": 147,
   "metadata": {},
   "outputs": [],
   "source": [
    "# Regenerate stage_parity\n",
    "df_csv_clean['stage_parity'] = df_csv_clean.apply(lambda x: str(x['doggo'])+ str(x['floofer'])+ str(x['pupper'])+ str(x['puppo']), axis=1)\n",
    "dog_stages=['doggo', 'floofer','pupper', 'puppo']\n",
    "for stg in dog_stages:\n",
    "    df_csv_clean[stg] = df_csv_clean[stg].apply(lambda x: (dog_stages.index(stg)+1) if x==(dog_stages.index(stg)+1) else 0)"
   ]
  },
  {
   "cell_type": "code",
   "execution_count": 148,
   "metadata": {},
   "outputs": [],
   "source": [
    "invalid_stages = df_csv_clean.query('stage_parity in (\"1030\")').index\n",
    "# Drop tweets with more than one stage after manual fixation\n",
    "df_csv_clean.drop(invalid_stages, inplace = True)"
   ]
  },
  {
   "cell_type": "markdown",
   "metadata": {},
   "source": [
    "#### Test"
   ]
  },
  {
   "cell_type": "code",
   "execution_count": 149,
   "metadata": {},
   "outputs": [
    {
     "data": {
      "text/plain": [
       "0000    1761\n",
       "0030    222 \n",
       "1000    74  \n",
       "0004    24  \n",
       "0200    10  \n",
       "Name: stage_parity, dtype: int64"
      ]
     },
     "execution_count": 149,
     "metadata": {},
     "output_type": "execute_result"
    }
   ],
   "source": [
    "df_csv_clean['stage_parity'].value_counts()"
   ]
  },
  {
   "cell_type": "markdown",
   "metadata": {},
   "source": [
    "#### Define (5)\n",
    "`stage column`: Merge four seprated columns(doggo, floofer,pupper and puppo) into one column(stage). (Fix an structural issue)\n",
    "\n",
    "#### Code"
   ]
  },
  {
   "cell_type": "code",
   "execution_count": 150,
   "metadata": {},
   "outputs": [],
   "source": [
    "# Add stage column based on stage_parity column\n",
    "parity_map = {\"0000\": np.NaN,\"1000\":\"doggo\", \"0200\":\"floofer\",  \"0030\":\"pupper\", \"0004\":\"puppo\"}\n",
    "df_csv_clean['stage'] = df_csv_clean['stage_parity'].apply(lambda x : parity_map[x])\n",
    "\n",
    "# Drop unnecessary columns:\n",
    "df_csv_clean.drop(['doggo', 'floofer', 'pupper', 'puppo', 'stage_parity'], axis=1, inplace=True)"
   ]
  },
  {
   "cell_type": "markdown",
   "metadata": {},
   "source": [
    "#### Test"
   ]
  },
  {
   "cell_type": "code",
   "execution_count": 151,
   "metadata": {},
   "outputs": [
    {
     "data": {
      "text/plain": [
       "pupper     222\n",
       "doggo      74 \n",
       "puppo      24 \n",
       "floofer    10 \n",
       "Name: stage, dtype: int64"
      ]
     },
     "execution_count": 151,
     "metadata": {},
     "output_type": "execute_result"
    }
   ],
   "source": [
    "df_csv_clean['stage'].value_counts()"
   ]
  },
  {
   "cell_type": "code",
   "execution_count": 152,
   "metadata": {},
   "outputs": [
    {
     "data": {
      "text/html": [
       "<div>\n",
       "<style scoped>\n",
       "    .dataframe tbody tr th:only-of-type {\n",
       "        vertical-align: middle;\n",
       "    }\n",
       "\n",
       "    .dataframe tbody tr th {\n",
       "        vertical-align: top;\n",
       "    }\n",
       "\n",
       "    .dataframe thead th {\n",
       "        text-align: right;\n",
       "    }\n",
       "</style>\n",
       "<table border=\"1\" class=\"dataframe\">\n",
       "  <thead>\n",
       "    <tr style=\"text-align: right;\">\n",
       "      <th></th>\n",
       "      <th>timestamp</th>\n",
       "      <th>source</th>\n",
       "      <th>text</th>\n",
       "      <th>expanded_urls</th>\n",
       "      <th>rating_numerator</th>\n",
       "      <th>rating_denominator</th>\n",
       "      <th>name</th>\n",
       "      <th>stage</th>\n",
       "    </tr>\n",
       "    <tr>\n",
       "      <th>tweet_id</th>\n",
       "      <th></th>\n",
       "      <th></th>\n",
       "      <th></th>\n",
       "      <th></th>\n",
       "      <th></th>\n",
       "      <th></th>\n",
       "      <th></th>\n",
       "      <th></th>\n",
       "    </tr>\n",
       "  </thead>\n",
       "  <tbody>\n",
       "    <tr>\n",
       "      <th>8.924206e+17</th>\n",
       "      <td>2017-08-01 16:23:56 +0000</td>\n",
       "      <td>&lt;a href=\"http://twitter.com/download/iphone\" rel=\"nofollow\"&gt;Twitter for iPhone&lt;/a&gt;</td>\n",
       "      <td>This is Phineas. He's a mystical boy. Only ever appears in the hole of a donut. 13/10 https://t.co/MgUWQ76dJU</td>\n",
       "      <td>https://twitter.com/dog_rates/status/892420643555336193/photo/1</td>\n",
       "      <td>13</td>\n",
       "      <td>10</td>\n",
       "      <td>Phineas</td>\n",
       "      <td>NaN</td>\n",
       "    </tr>\n",
       "    <tr>\n",
       "      <th>8.921774e+17</th>\n",
       "      <td>2017-08-01 00:17:27 +0000</td>\n",
       "      <td>&lt;a href=\"http://twitter.com/download/iphone\" rel=\"nofollow\"&gt;Twitter for iPhone&lt;/a&gt;</td>\n",
       "      <td>This is Tilly. She's just checking pup on you. Hopes you're doing ok. If not, she's available for pats, snugs, boops, the whole bit. 13/10 https://t.co/0Xxu71qeIV</td>\n",
       "      <td>https://twitter.com/dog_rates/status/892177421306343426/photo/1</td>\n",
       "      <td>13</td>\n",
       "      <td>10</td>\n",
       "      <td>Tilly</td>\n",
       "      <td>NaN</td>\n",
       "    </tr>\n",
       "  </tbody>\n",
       "</table>\n",
       "</div>"
      ],
      "text/plain": [
       "                              timestamp  \\\n",
       "tweet_id                                  \n",
       "8.924206e+17  2017-08-01 16:23:56 +0000   \n",
       "8.921774e+17  2017-08-01 00:17:27 +0000   \n",
       "\n",
       "                                                                                          source  \\\n",
       "tweet_id                                                                                           \n",
       "8.924206e+17  <a href=\"http://twitter.com/download/iphone\" rel=\"nofollow\">Twitter for iPhone</a>   \n",
       "8.921774e+17  <a href=\"http://twitter.com/download/iphone\" rel=\"nofollow\">Twitter for iPhone</a>   \n",
       "\n",
       "                                                                                                                                                                            text  \\\n",
       "tweet_id                                                                                                                                                                           \n",
       "8.924206e+17  This is Phineas. He's a mystical boy. Only ever appears in the hole of a donut. 13/10 https://t.co/MgUWQ76dJU                                                        \n",
       "8.921774e+17  This is Tilly. She's just checking pup on you. Hopes you're doing ok. If not, she's available for pats, snugs, boops, the whole bit. 13/10 https://t.co/0Xxu71qeIV   \n",
       "\n",
       "                                                                expanded_urls  \\\n",
       "tweet_id                                                                        \n",
       "8.924206e+17  https://twitter.com/dog_rates/status/892420643555336193/photo/1   \n",
       "8.921774e+17  https://twitter.com/dog_rates/status/892177421306343426/photo/1   \n",
       "\n",
       "              rating_numerator  rating_denominator     name stage  \n",
       "tweet_id                                                           \n",
       "8.924206e+17  13                10                  Phineas  NaN   \n",
       "8.921774e+17  13                10                  Tilly    NaN   "
      ]
     },
     "execution_count": 152,
     "metadata": {},
     "output_type": "execute_result"
    }
   ],
   "source": [
    "df_csv_clean.head(2)"
   ]
  },
  {
   "cell_type": "markdown",
   "metadata": {},
   "source": [
    "#### Define (6)\n",
    "`Source column`: Extract source from html tag in the `source` column and remove the unnecessary text.\n",
    "#### Code"
   ]
  },
  {
   "cell_type": "code",
   "execution_count": 153,
   "metadata": {},
   "outputs": [],
   "source": [
    "df_csv_clean['source'] = df_csv_clean['source'].str.extract(r'>(.*?)<')"
   ]
  },
  {
   "cell_type": "markdown",
   "metadata": {},
   "source": [
    "#### Test"
   ]
  },
  {
   "cell_type": "code",
   "execution_count": 154,
   "metadata": {},
   "outputs": [
    {
     "data": {
      "text/plain": [
       "Twitter for iPhone     1959\n",
       "Vine - Make a Scene    90  \n",
       "Twitter Web Client     31  \n",
       "TweetDeck              11  \n",
       "Name: source, dtype: int64"
      ]
     },
     "execution_count": 154,
     "metadata": {},
     "output_type": "execute_result"
    }
   ],
   "source": [
    "df_csv_clean['source'].value_counts()"
   ]
  },
  {
   "cell_type": "markdown",
   "metadata": {},
   "source": [
    "#### Define (7)\n",
    "`Timestamp column`: Remove +0000 from end of the time.\n",
    "\n",
    "#### Code"
   ]
  },
  {
   "cell_type": "code",
   "execution_count": 155,
   "metadata": {},
   "outputs": [],
   "source": [
    "df_csv_clean.timestamp = df_csv_clean.timestamp.apply(lambda x: x[:len(x)-5] if(x[len(x)-6:]== ' +0000') else x)"
   ]
  },
  {
   "cell_type": "markdown",
   "metadata": {},
   "source": [
    "#### Test"
   ]
  },
  {
   "cell_type": "markdown",
   "metadata": {},
   "source": [
    "#### Define (9)\n",
    "`rating_denominator column`: Check the tweets with denominator not equal to 10. Decide what we need to do with them.\n",
    "#### Code"
   ]
  },
  {
   "cell_type": "code",
   "execution_count": 157,
   "metadata": {},
   "outputs": [
    {
     "data": {
      "text/html": [
       "<div>\n",
       "<style scoped>\n",
       "    .dataframe tbody tr th:only-of-type {\n",
       "        vertical-align: middle;\n",
       "    }\n",
       "\n",
       "    .dataframe tbody tr th {\n",
       "        vertical-align: top;\n",
       "    }\n",
       "\n",
       "    .dataframe thead th {\n",
       "        text-align: right;\n",
       "    }\n",
       "</style>\n",
       "<table border=\"1\" class=\"dataframe\">\n",
       "  <thead>\n",
       "    <tr style=\"text-align: right;\">\n",
       "      <th></th>\n",
       "      <th>text</th>\n",
       "      <th>rating_numerator</th>\n",
       "      <th>rating_denominator</th>\n",
       "    </tr>\n",
       "    <tr>\n",
       "      <th>tweet_id</th>\n",
       "      <th></th>\n",
       "      <th></th>\n",
       "      <th></th>\n",
       "    </tr>\n",
       "  </thead>\n",
       "  <tbody>\n",
       "    <tr>\n",
       "      <th>8.206902e+17</th>\n",
       "      <td>The floofs have been released I repeat the floofs have been released. 84/70 https://t.co/NIYC820tmd</td>\n",
       "      <td>84</td>\n",
       "      <td>70</td>\n",
       "    </tr>\n",
       "    <tr>\n",
       "      <th>8.109847e+17</th>\n",
       "      <td>Meet Sam. She smiles 24/7 &amp;amp; secretly aspires to be a reindeer. \\nKeep Sam smiling by clicking and sharing this link:\\nhttps://t.co/98tB8y7y7t https://t.co/LouL5vdvxx</td>\n",
       "      <td>24</td>\n",
       "      <td>7</td>\n",
       "    </tr>\n",
       "    <tr>\n",
       "      <th>7.584672e+17</th>\n",
       "      <td>Why does this never happen at my front door... 165/150 https://t.co/HmwrdfEfUE</td>\n",
       "      <td>165</td>\n",
       "      <td>150</td>\n",
       "    </tr>\n",
       "    <tr>\n",
       "      <th>7.403732e+17</th>\n",
       "      <td>After so many requests, this is Bretagne. She was the last surviving 9/11 search dog, and our second ever 14/10. RIP https://t.co/XAVDNDaVgQ</td>\n",
       "      <td>9</td>\n",
       "      <td>11</td>\n",
       "    </tr>\n",
       "    <tr>\n",
       "      <th>7.311560e+17</th>\n",
       "      <td>Say hello to this unbelievably well behaved squad of doggos. 204/170 would try to pet all at once https://t.co/yGQI3He3xv</td>\n",
       "      <td>204</td>\n",
       "      <td>170</td>\n",
       "    </tr>\n",
       "    <tr>\n",
       "      <th>7.229746e+17</th>\n",
       "      <td>Happy 4/20 from the squad! 13/10 for all https://t.co/eV1diwds8a</td>\n",
       "      <td>4</td>\n",
       "      <td>20</td>\n",
       "    </tr>\n",
       "    <tr>\n",
       "      <th>7.164391e+17</th>\n",
       "      <td>This is Bluebert. He just saw that both #FinalFur match ups are split 50/50. Amazed af. 11/10 https://t.co/Kky1DPG4iq</td>\n",
       "      <td>50</td>\n",
       "      <td>50</td>\n",
       "    </tr>\n",
       "    <tr>\n",
       "      <th>7.139006e+17</th>\n",
       "      <td>Happy Saturday here's 9 puppers on a bench. 99/90 good work everybody https://t.co/mpvaVxKmc1</td>\n",
       "      <td>99</td>\n",
       "      <td>90</td>\n",
       "    </tr>\n",
       "    <tr>\n",
       "      <th>7.106587e+17</th>\n",
       "      <td>Here's a brigade of puppers. All look very prepared for whatever happens next. 80/80 https://t.co/0eb7R1Om12</td>\n",
       "      <td>80</td>\n",
       "      <td>80</td>\n",
       "    </tr>\n",
       "    <tr>\n",
       "      <th>7.091984e+17</th>\n",
       "      <td>From left to right:\\nCletus, Jerome, Alejandro, Burp, &amp;amp; Titson\\nNone know where camera is. 45/50 would hug all at once https://t.co/sedre1ivTK</td>\n",
       "      <td>45</td>\n",
       "      <td>50</td>\n",
       "    </tr>\n",
       "    <tr>\n",
       "      <th>7.040548e+17</th>\n",
       "      <td>Here is a whole flock of puppers.  60/50 I'll take the lot https://t.co/9dpcw6MdWa</td>\n",
       "      <td>60</td>\n",
       "      <td>50</td>\n",
       "    </tr>\n",
       "    <tr>\n",
       "      <th>6.974630e+17</th>\n",
       "      <td>Happy Wednesday here's a bucket of pups. 44/40 would pet all at once https://t.co/HppvrYuamZ</td>\n",
       "      <td>44</td>\n",
       "      <td>40</td>\n",
       "    </tr>\n",
       "    <tr>\n",
       "      <th>6.842229e+17</th>\n",
       "      <td>Someone help the girl is being mugged. Several are distracting her while two steal her shoes. Clever puppers 121/110 https://t.co/1zfnTJLt55</td>\n",
       "      <td>121</td>\n",
       "      <td>110</td>\n",
       "    </tr>\n",
       "    <tr>\n",
       "      <th>6.829620e+17</th>\n",
       "      <td>This is Darrel. He just robbed a 7/11 and is in a high speed police chase. Was just spotted by the helicopter 10/10 https://t.co/7EsP8LmSp5</td>\n",
       "      <td>7</td>\n",
       "      <td>11</td>\n",
       "    </tr>\n",
       "    <tr>\n",
       "      <th>6.777165e+17</th>\n",
       "      <td>IT'S PUPPERGEDDON. Total of 144/120 ...I think https://t.co/ZanVtAtvIq</td>\n",
       "      <td>144</td>\n",
       "      <td>120</td>\n",
       "    </tr>\n",
       "    <tr>\n",
       "      <th>6.758531e+17</th>\n",
       "      <td>Here we have an entire platoon of puppers. Total score: 88/80 would pet all at once https://t.co/y93p6FLvVw</td>\n",
       "      <td>88</td>\n",
       "      <td>80</td>\n",
       "    </tr>\n",
       "    <tr>\n",
       "      <th>6.662874e+17</th>\n",
       "      <td>This is an Albanian 3 1/2 legged  Episcopalian. Loves well-polished hardwood flooring. Penis on the collar. 9/10 https://t.co/d9NcXFKwLv</td>\n",
       "      <td>1</td>\n",
       "      <td>2</td>\n",
       "    </tr>\n",
       "  </tbody>\n",
       "</table>\n",
       "</div>"
      ],
      "text/plain": [
       "                                                                                                                                                                                   text  \\\n",
       "tweet_id                                                                                                                                                                                  \n",
       "8.206902e+17  The floofs have been released I repeat the floofs have been released. 84/70 https://t.co/NIYC820tmd                                                                         \n",
       "8.109847e+17  Meet Sam. She smiles 24/7 &amp; secretly aspires to be a reindeer. \\nKeep Sam smiling by clicking and sharing this link:\\nhttps://t.co/98tB8y7y7t https://t.co/LouL5vdvxx   \n",
       "7.584672e+17  Why does this never happen at my front door... 165/150 https://t.co/HmwrdfEfUE                                                                                              \n",
       "7.403732e+17  After so many requests, this is Bretagne. She was the last surviving 9/11 search dog, and our second ever 14/10. RIP https://t.co/XAVDNDaVgQ                                \n",
       "7.311560e+17  Say hello to this unbelievably well behaved squad of doggos. 204/170 would try to pet all at once https://t.co/yGQI3He3xv                                                   \n",
       "7.229746e+17  Happy 4/20 from the squad! 13/10 for all https://t.co/eV1diwds8a                                                                                                            \n",
       "7.164391e+17  This is Bluebert. He just saw that both #FinalFur match ups are split 50/50. Amazed af. 11/10 https://t.co/Kky1DPG4iq                                                       \n",
       "7.139006e+17  Happy Saturday here's 9 puppers on a bench. 99/90 good work everybody https://t.co/mpvaVxKmc1                                                                               \n",
       "7.106587e+17  Here's a brigade of puppers. All look very prepared for whatever happens next. 80/80 https://t.co/0eb7R1Om12                                                                \n",
       "7.091984e+17  From left to right:\\nCletus, Jerome, Alejandro, Burp, &amp; Titson\\nNone know where camera is. 45/50 would hug all at once https://t.co/sedre1ivTK                          \n",
       "7.040548e+17  Here is a whole flock of puppers.  60/50 I'll take the lot https://t.co/9dpcw6MdWa                                                                                          \n",
       "6.974630e+17  Happy Wednesday here's a bucket of pups. 44/40 would pet all at once https://t.co/HppvrYuamZ                                                                                \n",
       "6.842229e+17  Someone help the girl is being mugged. Several are distracting her while two steal her shoes. Clever puppers 121/110 https://t.co/1zfnTJLt55                                \n",
       "6.829620e+17  This is Darrel. He just robbed a 7/11 and is in a high speed police chase. Was just spotted by the helicopter 10/10 https://t.co/7EsP8LmSp5                                 \n",
       "6.777165e+17  IT'S PUPPERGEDDON. Total of 144/120 ...I think https://t.co/ZanVtAtvIq                                                                                                      \n",
       "6.758531e+17  Here we have an entire platoon of puppers. Total score: 88/80 would pet all at once https://t.co/y93p6FLvVw                                                                 \n",
       "6.662874e+17  This is an Albanian 3 1/2 legged  Episcopalian. Loves well-polished hardwood flooring. Penis on the collar. 9/10 https://t.co/d9NcXFKwLv                                    \n",
       "\n",
       "              rating_numerator  rating_denominator  \n",
       "tweet_id                                            \n",
       "8.206902e+17  84                70                  \n",
       "8.109847e+17  24                7                   \n",
       "7.584672e+17  165               150                 \n",
       "7.403732e+17  9                 11                  \n",
       "7.311560e+17  204               170                 \n",
       "7.229746e+17  4                 20                  \n",
       "7.164391e+17  50                50                  \n",
       "7.139006e+17  99                90                  \n",
       "7.106587e+17  80                80                  \n",
       "7.091984e+17  45                50                  \n",
       "7.040548e+17  60                50                  \n",
       "6.974630e+17  44                40                  \n",
       "6.842229e+17  121               110                 \n",
       "6.829620e+17  7                 11                  \n",
       "6.777165e+17  144               120                 \n",
       "6.758531e+17  88                80                  \n",
       "6.662874e+17  1                 2                   "
      ]
     },
     "execution_count": 157,
     "metadata": {},
     "output_type": "execute_result"
    }
   ],
   "source": [
    "pd.set_option('display.max_colwidth', 0)\n",
    "df_csv_clean.query('rating_denominator != 10')[['text','rating_numerator','rating_denominator']]"
   ]
  },
  {
   "cell_type": "markdown",
   "metadata": {},
   "source": [
    "Apparently, the fetch the rating nominators and denominators from the text. These 23 rows have some other numbers including `/`. We can simply **remove** them as most of them are not rating tweets."
   ]
  },
  {
   "cell_type": "code",
   "execution_count": 158,
   "metadata": {},
   "outputs": [],
   "source": [
    "df_csv_clean.drop(df_csv_clean.query('rating_denominator != 10').index, inplace=True)"
   ]
  },
  {
   "cell_type": "markdown",
   "metadata": {},
   "source": [
    "#### Test"
   ]
  },
  {
   "cell_type": "code",
   "execution_count": 159,
   "metadata": {},
   "outputs": [
    {
     "data": {
      "text/plain": [
       "0"
      ]
     },
     "execution_count": 159,
     "metadata": {},
     "output_type": "execute_result"
    }
   ],
   "source": [
    "df_csv_clean.query('rating_denominator != 10')[['text','rating_numerator','rating_denominator']].shape[0]"
   ]
  },
  {
   "cell_type": "markdown",
   "metadata": {},
   "source": [
    "#### Define (10)\n",
    "`rating_nominator column`: Check the tweets with nominator greater than 15. Decide what we need to do with them.\n",
    "#### Code"
   ]
  },
  {
   "cell_type": "code",
   "execution_count": 160,
   "metadata": {},
   "outputs": [
    {
     "data": {
      "text/html": [
       "<div>\n",
       "<style scoped>\n",
       "    .dataframe tbody tr th:only-of-type {\n",
       "        vertical-align: middle;\n",
       "    }\n",
       "\n",
       "    .dataframe tbody tr th {\n",
       "        vertical-align: top;\n",
       "    }\n",
       "\n",
       "    .dataframe thead th {\n",
       "        text-align: right;\n",
       "    }\n",
       "</style>\n",
       "<table border=\"1\" class=\"dataframe\">\n",
       "  <thead>\n",
       "    <tr style=\"text-align: right;\">\n",
       "      <th></th>\n",
       "      <th>text</th>\n",
       "      <th>rating_numerator</th>\n",
       "      <th>rating_denominator</th>\n",
       "    </tr>\n",
       "    <tr>\n",
       "      <th>tweet_id</th>\n",
       "      <th></th>\n",
       "      <th></th>\n",
       "      <th></th>\n",
       "    </tr>\n",
       "  </thead>\n",
       "  <tbody>\n",
       "    <tr>\n",
       "      <th>7.867091e+17</th>\n",
       "      <td>This is Logan, the Chow who lived. He solemnly swears he's up to lots of good. H*ckin magical af 9.75/10 https://t.co/yBO5wuqaPS</td>\n",
       "      <td>75</td>\n",
       "      <td>10</td>\n",
       "    </tr>\n",
       "    <tr>\n",
       "      <th>7.780270e+17</th>\n",
       "      <td>This is Sophie. She's a Jubilant Bush Pupper. Super h*ckin rare. Appears at random just to smile at the locals. 11.27/10 would smile back https://t.co/QFaUiIHxHq</td>\n",
       "      <td>27</td>\n",
       "      <td>10</td>\n",
       "    </tr>\n",
       "    <tr>\n",
       "      <th>7.499813e+17</th>\n",
       "      <td>This is Atticus. He's quite simply America af. 1776/10 https://t.co/GRXwMxLBkh</td>\n",
       "      <td>1776</td>\n",
       "      <td>10</td>\n",
       "    </tr>\n",
       "    <tr>\n",
       "      <th>6.804947e+17</th>\n",
       "      <td>Here we have uncovered an entire battalion of holiday puppers. Average of 11.26/10 https://t.co/eNm2S6p9BD</td>\n",
       "      <td>26</td>\n",
       "      <td>10</td>\n",
       "    </tr>\n",
       "    <tr>\n",
       "      <th>6.708428e+17</th>\n",
       "      <td>After so many requests... here you go.\\n\\nGood dogg. 420/10 https://t.co/yfAAo1gdeY</td>\n",
       "      <td>420</td>\n",
       "      <td>10</td>\n",
       "    </tr>\n",
       "  </tbody>\n",
       "</table>\n",
       "</div>"
      ],
      "text/plain": [
       "                                                                                                                                                                           text  \\\n",
       "tweet_id                                                                                                                                                                          \n",
       "7.867091e+17  This is Logan, the Chow who lived. He solemnly swears he's up to lots of good. H*ckin magical af 9.75/10 https://t.co/yBO5wuqaPS                                    \n",
       "7.780270e+17  This is Sophie. She's a Jubilant Bush Pupper. Super h*ckin rare. Appears at random just to smile at the locals. 11.27/10 would smile back https://t.co/QFaUiIHxHq   \n",
       "7.499813e+17  This is Atticus. He's quite simply America af. 1776/10 https://t.co/GRXwMxLBkh                                                                                      \n",
       "6.804947e+17  Here we have uncovered an entire battalion of holiday puppers. Average of 11.26/10 https://t.co/eNm2S6p9BD                                                          \n",
       "6.708428e+17  After so many requests... here you go.\\n\\nGood dogg. 420/10 https://t.co/yfAAo1gdeY                                                                                 \n",
       "\n",
       "              rating_numerator  rating_denominator  \n",
       "tweet_id                                            \n",
       "7.867091e+17  75                10                  \n",
       "7.780270e+17  27                10                  \n",
       "7.499813e+17  1776              10                  \n",
       "6.804947e+17  26                10                  \n",
       "6.708428e+17  420               10                  "
      ]
     },
     "execution_count": 160,
     "metadata": {},
     "output_type": "execute_result"
    }
   ],
   "source": [
    "df_csv_clean.query('rating_numerator > 15')[['text','rating_numerator','rating_denominator']]"
   ]
  },
  {
   "cell_type": "markdown",
   "metadata": {},
   "source": [
    "Reading the text we can update some of them the rest should be removed."
   ]
  },
  {
   "cell_type": "code",
   "execution_count": 161,
   "metadata": {},
   "outputs": [],
   "source": [
    "# Update 17 to 13 as in text it says 13 fixes better\n",
    "df_csv_clean.at[df_csv_clean.query('rating_numerator == 17').index,'rating_numerator'] = 13\n",
    "\n",
    "# The score is 11.27/10. Update 27 to 11 \n",
    "df_csv_clean.at[df_csv_clean.query('rating_numerator == 27').index,'rating_numerator'] = 11\n",
    "\n",
    "# The score is 11.26/10. Update 26 to 11 \n",
    "df_csv_clean.at[df_csv_clean.query('rating_numerator == 26').index,'rating_numerator'] = 11\n",
    "\n",
    "# Remove the rest\n",
    "\n",
    "df_csv_clean.drop(df_csv_clean.query('rating_numerator > 15').index, inplace=True)"
   ]
  },
  {
   "cell_type": "markdown",
   "metadata": {},
   "source": [
    "#### Test"
   ]
  },
  {
   "cell_type": "code",
   "execution_count": 164,
   "metadata": {},
   "outputs": [
    {
     "data": {
      "text/plain": [
       "0"
      ]
     },
     "execution_count": 164,
     "metadata": {},
     "output_type": "execute_result"
    }
   ],
   "source": [
    "df_csv_clean.query('rating_numerator > 15')[['text','rating_numerator','rating_denominator']].shape[0]"
   ]
  },
  {
   "cell_type": "markdown",
   "metadata": {},
   "source": [
    "#### Define (12)\n",
    "`name column`: Fix invalid names such as a, an, the, very etc.\n",
    "\n",
    "#### Code"
   ]
  },
  {
   "cell_type": "code",
   "execution_count": 165,
   "metadata": {},
   "outputs": [
    {
     "data": {
      "text/html": [
       "<div>\n",
       "<style scoped>\n",
       "    .dataframe tbody tr th:only-of-type {\n",
       "        vertical-align: middle;\n",
       "    }\n",
       "\n",
       "    .dataframe tbody tr th {\n",
       "        vertical-align: top;\n",
       "    }\n",
       "\n",
       "    .dataframe thead th {\n",
       "        text-align: right;\n",
       "    }\n",
       "</style>\n",
       "<table border=\"1\" class=\"dataframe\">\n",
       "  <thead>\n",
       "    <tr style=\"text-align: right;\">\n",
       "      <th></th>\n",
       "      <th>name</th>\n",
       "      <th>text</th>\n",
       "    </tr>\n",
       "    <tr>\n",
       "      <th>tweet_id</th>\n",
       "      <th></th>\n",
       "      <th></th>\n",
       "    </tr>\n",
       "  </thead>\n",
       "  <tbody>\n",
       "    <tr>\n",
       "      <th>6.677732e+17</th>\n",
       "      <td>a</td>\n",
       "      <td>This is a rare Hungarian Pinot named Jessiga. She is either mid-stroke or got stuck in the washing machine. 8/10 https://t.co/ZU0i0KJyqD</td>\n",
       "    </tr>\n",
       "    <tr>\n",
       "      <th>6.685075e+17</th>\n",
       "      <td>a</td>\n",
       "      <td>This is a Birmingham Quagmire named Chuk. Loves to relax and watch the game while sippin on that iced mocha. 10/10 https://t.co/HvNg9JWxFt</td>\n",
       "    </tr>\n",
       "    <tr>\n",
       "      <th>6.660555e+17</th>\n",
       "      <td>a</td>\n",
       "      <td>Here is a Siberian heavily armored polar bear mix. Strong owner. 10/10 I would do unspeakable things to pet this dog https://t.co/rdivxLiqEt</td>\n",
       "    </tr>\n",
       "    <tr>\n",
       "      <th>6.724827e+17</th>\n",
       "      <td>light</td>\n",
       "      <td>This is light saber pup. Ready to fight off evil with light saber. 10/10 true hero https://t.co/LPPa3btIIt</td>\n",
       "    </tr>\n",
       "    <tr>\n",
       "      <th>6.703619e+17</th>\n",
       "      <td>a</td>\n",
       "      <td>This is a Rich Mahogany Seltzer named Cherokee. Just got destroyed by a snowball. Isn't very happy about it. 9/10 https://t.co/98ZBi6o4dj</td>\n",
       "    </tr>\n",
       "  </tbody>\n",
       "</table>\n",
       "</div>"
      ],
      "text/plain": [
       "               name  \\\n",
       "tweet_id              \n",
       "6.677732e+17  a       \n",
       "6.685075e+17  a       \n",
       "6.660555e+17  a       \n",
       "6.724827e+17  light   \n",
       "6.703619e+17  a       \n",
       "\n",
       "                                                                                                                                                      text  \n",
       "tweet_id                                                                                                                                                    \n",
       "6.677732e+17  This is a rare Hungarian Pinot named Jessiga. She is either mid-stroke or got stuck in the washing machine. 8/10 https://t.co/ZU0i0KJyqD      \n",
       "6.685075e+17  This is a Birmingham Quagmire named Chuk. Loves to relax and watch the game while sippin on that iced mocha. 10/10 https://t.co/HvNg9JWxFt    \n",
       "6.660555e+17  Here is a Siberian heavily armored polar bear mix. Strong owner. 10/10 I would do unspeakable things to pet this dog https://t.co/rdivxLiqEt  \n",
       "6.724827e+17  This is light saber pup. Ready to fight off evil with light saber. 10/10 true hero https://t.co/LPPa3btIIt                                    \n",
       "6.703619e+17  This is a Rich Mahogany Seltzer named Cherokee. Just got destroyed by a snowball. Isn't very happy about it. 9/10 https://t.co/98ZBi6o4dj     "
      ]
     },
     "execution_count": 165,
     "metadata": {},
     "output_type": "execute_result"
    }
   ],
   "source": [
    "lower_case_names = df_csv_clean['name'].apply(lambda x : x[:1].islower() if str(x) != 'nan' else False)\n",
    "df_csv_clean[lower_case_names][['name', 'text']].sample(5)"
   ]
  },
  {
   "cell_type": "markdown",
   "metadata": {},
   "source": [
    "Apparently, word after `This is`, `Here is`is considered as name. 104 names are like this. As we are going to analyze name of dogs we will update these names to null."
   ]
  },
  {
   "cell_type": "code",
   "execution_count": 166,
   "metadata": {},
   "outputs": [],
   "source": [
    "for indx in df_csv_clean[lower_case_names].index:\n",
    "    df_csv_clean.at[indx, 'name'] = np.NaN"
   ]
  },
  {
   "cell_type": "markdown",
   "metadata": {},
   "source": [
    "#### Test"
   ]
  },
  {
   "cell_type": "code",
   "execution_count": 167,
   "metadata": {},
   "outputs": [
    {
     "data": {
      "text/plain": [
       "0"
      ]
     },
     "execution_count": 167,
     "metadata": {},
     "output_type": "execute_result"
    }
   ],
   "source": [
    "lower_case_names = df_csv_clean['name'].apply(lambda x : x[:1].islower() if str(x) != 'nan' else False)\n",
    "df_csv_clean[lower_case_names][['name', 'text']].shape[0]"
   ]
  },
  {
   "cell_type": "markdown",
   "metadata": {},
   "source": [
    "#### Define (13)\n",
    "`df_tsv table`: Change colum titles to  more descriptive column\n",
    "\n",
    "#### Code"
   ]
  },
  {
   "cell_type": "code",
   "execution_count": 168,
   "metadata": {},
   "outputs": [],
   "source": [
    "df_tsv_clean.rename(columns={'img_num':'image_count',\n",
    "                             'p1':'first_prediction',\n",
    "                             'p1_conf':'first_prediction_confidence',\n",
    "                             'p1_dog':'is_first_prediction_dog',\n",
    "                             'p2':'second_prediction',\n",
    "                             'p2_conf':'second_prediction_confidence',\n",
    "                             'p2_dog':'is_second_prediction_dog',\n",
    "                             'p3':'third__prediction',\n",
    "                             'p3_conf':'third_prediction_confidence',\n",
    "                             'p3_dog':'is_third_prediction_dog',}, inplace=True)"
   ]
  },
  {
   "cell_type": "markdown",
   "metadata": {},
   "source": [
    "#### Test"
   ]
  },
  {
   "cell_type": "code",
   "execution_count": 169,
   "metadata": {},
   "outputs": [
    {
     "data": {
      "text/html": [
       "<div>\n",
       "<style scoped>\n",
       "    .dataframe tbody tr th:only-of-type {\n",
       "        vertical-align: middle;\n",
       "    }\n",
       "\n",
       "    .dataframe tbody tr th {\n",
       "        vertical-align: top;\n",
       "    }\n",
       "\n",
       "    .dataframe thead th {\n",
       "        text-align: right;\n",
       "    }\n",
       "</style>\n",
       "<table border=\"1\" class=\"dataframe\">\n",
       "  <thead>\n",
       "    <tr style=\"text-align: right;\">\n",
       "      <th></th>\n",
       "      <th>jpg_url</th>\n",
       "      <th>image_count</th>\n",
       "      <th>first_prediction</th>\n",
       "      <th>first_prediction_confidence</th>\n",
       "      <th>is_first_prediction_dog</th>\n",
       "      <th>second_prediction</th>\n",
       "      <th>second_prediction_confidence</th>\n",
       "      <th>is_second_prediction_dog</th>\n",
       "      <th>third__prediction</th>\n",
       "      <th>third_prediction_confidence</th>\n",
       "      <th>is_third_prediction_dog</th>\n",
       "    </tr>\n",
       "    <tr>\n",
       "      <th>tweet_id</th>\n",
       "      <th></th>\n",
       "      <th></th>\n",
       "      <th></th>\n",
       "      <th></th>\n",
       "      <th></th>\n",
       "      <th></th>\n",
       "      <th></th>\n",
       "      <th></th>\n",
       "      <th></th>\n",
       "      <th></th>\n",
       "      <th></th>\n",
       "    </tr>\n",
       "  </thead>\n",
       "  <tbody>\n",
       "    <tr>\n",
       "      <th>666020888022790149</th>\n",
       "      <td>https://pbs.twimg.com/media/CT4udn0WwAA0aMy.jpg</td>\n",
       "      <td>1</td>\n",
       "      <td>Welsh_springer_spaniel</td>\n",
       "      <td>0.465074</td>\n",
       "      <td>True</td>\n",
       "      <td>collie</td>\n",
       "      <td>0.156665</td>\n",
       "      <td>True</td>\n",
       "      <td>Shetland_sheepdog</td>\n",
       "      <td>0.061428</td>\n",
       "      <td>True</td>\n",
       "    </tr>\n",
       "    <tr>\n",
       "      <th>666029285002620928</th>\n",
       "      <td>https://pbs.twimg.com/media/CT42GRgUYAA5iDo.jpg</td>\n",
       "      <td>1</td>\n",
       "      <td>redbone</td>\n",
       "      <td>0.506826</td>\n",
       "      <td>True</td>\n",
       "      <td>miniature_pinscher</td>\n",
       "      <td>0.074192</td>\n",
       "      <td>True</td>\n",
       "      <td>Rhodesian_ridgeback</td>\n",
       "      <td>0.072010</td>\n",
       "      <td>True</td>\n",
       "    </tr>\n",
       "  </tbody>\n",
       "</table>\n",
       "</div>"
      ],
      "text/plain": [
       "                                                            jpg_url  \\\n",
       "tweet_id                                                              \n",
       "666020888022790149  https://pbs.twimg.com/media/CT4udn0WwAA0aMy.jpg   \n",
       "666029285002620928  https://pbs.twimg.com/media/CT42GRgUYAA5iDo.jpg   \n",
       "\n",
       "                    image_count        first_prediction  \\\n",
       "tweet_id                                                  \n",
       "666020888022790149  1            Welsh_springer_spaniel   \n",
       "666029285002620928  1            redbone                  \n",
       "\n",
       "                    first_prediction_confidence  is_first_prediction_dog  \\\n",
       "tweet_id                                                                   \n",
       "666020888022790149  0.465074                     True                      \n",
       "666029285002620928  0.506826                     True                      \n",
       "\n",
       "                     second_prediction  second_prediction_confidence  \\\n",
       "tweet_id                                                               \n",
       "666020888022790149  collie              0.156665                       \n",
       "666029285002620928  miniature_pinscher  0.074192                       \n",
       "\n",
       "                    is_second_prediction_dog    third__prediction  \\\n",
       "tweet_id                                                            \n",
       "666020888022790149  True                      Shetland_sheepdog     \n",
       "666029285002620928  True                      Rhodesian_ridgeback   \n",
       "\n",
       "                    third_prediction_confidence  is_third_prediction_dog  \n",
       "tweet_id                                                                  \n",
       "666020888022790149  0.061428                     True                     \n",
       "666029285002620928  0.072010                     True                     "
      ]
     },
     "execution_count": 169,
     "metadata": {},
     "output_type": "execute_result"
    }
   ],
   "source": [
    "df_tsv_clean.head(2)"
   ]
  },
  {
   "cell_type": "markdown",
   "metadata": {},
   "source": [
    "#### Define (14)\n",
    "`df_json_clean table`:make `tweet_id` index\n",
    "\n",
    "#### Code"
   ]
  },
  {
   "cell_type": "code",
   "execution_count": 170,
   "metadata": {},
   "outputs": [],
   "source": [
    "df_json_clean.set_index('tweet_id', inplace=True)"
   ]
  },
  {
   "cell_type": "markdown",
   "metadata": {},
   "source": [
    "#### Test"
   ]
  },
  {
   "cell_type": "code",
   "execution_count": 171,
   "metadata": {},
   "outputs": [
    {
     "data": {
      "text/html": [
       "<div>\n",
       "<style scoped>\n",
       "    .dataframe tbody tr th:only-of-type {\n",
       "        vertical-align: middle;\n",
       "    }\n",
       "\n",
       "    .dataframe tbody tr th {\n",
       "        vertical-align: top;\n",
       "    }\n",
       "\n",
       "    .dataframe thead th {\n",
       "        text-align: right;\n",
       "    }\n",
       "</style>\n",
       "<table border=\"1\" class=\"dataframe\">\n",
       "  <thead>\n",
       "    <tr style=\"text-align: right;\">\n",
       "      <th></th>\n",
       "      <th>created_at</th>\n",
       "      <th>favorite_count</th>\n",
       "      <th>retweet_count</th>\n",
       "      <th>tweet_status_ok</th>\n",
       "    </tr>\n",
       "    <tr>\n",
       "      <th>tweet_id</th>\n",
       "      <th></th>\n",
       "      <th></th>\n",
       "      <th></th>\n",
       "      <th></th>\n",
       "    </tr>\n",
       "  </thead>\n",
       "  <tbody>\n",
       "    <tr>\n",
       "      <th>892420643555336193</th>\n",
       "      <td>2017-08-01 16:23:56</td>\n",
       "      <td>36600</td>\n",
       "      <td>7789</td>\n",
       "      <td>True</td>\n",
       "    </tr>\n",
       "    <tr>\n",
       "      <th>892177421306343426</th>\n",
       "      <td>2017-08-01 00:17:27</td>\n",
       "      <td>31536</td>\n",
       "      <td>5771</td>\n",
       "      <td>True</td>\n",
       "    </tr>\n",
       "    <tr>\n",
       "      <th>891815181378084864</th>\n",
       "      <td>2017-07-31 00:18:03</td>\n",
       "      <td>23755</td>\n",
       "      <td>3820</td>\n",
       "      <td>True</td>\n",
       "    </tr>\n",
       "    <tr>\n",
       "      <th>891689557279858688</th>\n",
       "      <td>2017-07-30 15:58:51</td>\n",
       "      <td>39927</td>\n",
       "      <td>7961</td>\n",
       "      <td>True</td>\n",
       "    </tr>\n",
       "    <tr>\n",
       "      <th>891327558926688256</th>\n",
       "      <td>2017-07-29 16:00:24</td>\n",
       "      <td>38124</td>\n",
       "      <td>8598</td>\n",
       "      <td>True</td>\n",
       "    </tr>\n",
       "  </tbody>\n",
       "</table>\n",
       "</div>"
      ],
      "text/plain": [
       "                             created_at favorite_count retweet_count  \\\n",
       "tweet_id                                                               \n",
       "892420643555336193  2017-08-01 16:23:56  36600          7789           \n",
       "892177421306343426  2017-08-01 00:17:27  31536          5771           \n",
       "891815181378084864  2017-07-31 00:18:03  23755          3820           \n",
       "891689557279858688  2017-07-30 15:58:51  39927          7961           \n",
       "891327558926688256  2017-07-29 16:00:24  38124          8598           \n",
       "\n",
       "                   tweet_status_ok  \n",
       "tweet_id                            \n",
       "892420643555336193  True            \n",
       "892177421306343426  True            \n",
       "891815181378084864  True            \n",
       "891689557279858688  True            \n",
       "891327558926688256  True            "
      ]
     },
     "execution_count": 171,
     "metadata": {},
     "output_type": "execute_result"
    }
   ],
   "source": [
    "df_json_clean.head()"
   ]
  },
  {
   "cell_type": "markdown",
   "metadata": {},
   "source": [
    "-------------------------------------------------------"
   ]
  },
  {
   "cell_type": "markdown",
   "metadata": {},
   "source": [
    "<a id='Storing'></a>\n",
    "# Storing\n",
    "Join all three datasets and store them in `twitter_archive_master.csv`"
   ]
  },
  {
   "cell_type": "code",
   "execution_count": 172,
   "metadata": {},
   "outputs": [],
   "source": [
    "pd.merge((pd.merge(df_csv_clean, df_tsv_clean, right_index=True, left_index=True)) , df_json_clean, right_index=True, left_index=True).to_csv('twitter_archive_master.csv')"
   ]
  },
  {
   "cell_type": "code",
   "execution_count": 183,
   "metadata": {},
   "outputs": [
    {
     "data": {
      "text/html": [
       "<div>\n",
       "<style scoped>\n",
       "    .dataframe tbody tr th:only-of-type {\n",
       "        vertical-align: middle;\n",
       "    }\n",
       "\n",
       "    .dataframe tbody tr th {\n",
       "        vertical-align: top;\n",
       "    }\n",
       "\n",
       "    .dataframe thead th {\n",
       "        text-align: right;\n",
       "    }\n",
       "</style>\n",
       "<table border=\"1\" class=\"dataframe\">\n",
       "  <thead>\n",
       "    <tr style=\"text-align: right;\">\n",
       "      <th></th>\n",
       "      <th>tweet_id</th>\n",
       "      <th>timestamp</th>\n",
       "      <th>source</th>\n",
       "      <th>text</th>\n",
       "      <th>expanded_urls</th>\n",
       "      <th>rating_numerator</th>\n",
       "      <th>rating_denominator</th>\n",
       "      <th>name</th>\n",
       "      <th>stage</th>\n",
       "      <th>jpg_url</th>\n",
       "      <th>...</th>\n",
       "      <th>second_prediction</th>\n",
       "      <th>second_prediction_confidence</th>\n",
       "      <th>is_second_prediction_dog</th>\n",
       "      <th>third__prediction</th>\n",
       "      <th>third_prediction_confidence</th>\n",
       "      <th>is_third_prediction_dog</th>\n",
       "      <th>created_at</th>\n",
       "      <th>favorite_count</th>\n",
       "      <th>retweet_count</th>\n",
       "      <th>tweet_status_ok</th>\n",
       "    </tr>\n",
       "  </thead>\n",
       "  <tbody>\n",
       "    <tr>\n",
       "      <th>0</th>\n",
       "      <td>891815181378084864</td>\n",
       "      <td>2017-07-31 00:18:03</td>\n",
       "      <td>Twitter for iPhone</td>\n",
       "      <td>This is Archie. He is a rare Norwegian Pouncing Corgo. Lives in the tall grass. You never know when one may strike. 12/10 https://t.co/wUnZnhtVJB</td>\n",
       "      <td>https://twitter.com/dog_rates/status/891815181378084864/photo/1</td>\n",
       "      <td>12</td>\n",
       "      <td>10</td>\n",
       "      <td>Archie</td>\n",
       "      <td>NaN</td>\n",
       "      <td>https://pbs.twimg.com/media/DGBdLU1WsAANxJ9.jpg</td>\n",
       "      <td>...</td>\n",
       "      <td>malamute</td>\n",
       "      <td>0.078253</td>\n",
       "      <td>True</td>\n",
       "      <td>kelpie</td>\n",
       "      <td>0.031379</td>\n",
       "      <td>True</td>\n",
       "      <td>2017-07-31 00:18:03</td>\n",
       "      <td>23755</td>\n",
       "      <td>3820</td>\n",
       "      <td>True</td>\n",
       "    </tr>\n",
       "  </tbody>\n",
       "</table>\n",
       "<p>1 rows × 24 columns</p>\n",
       "</div>"
      ],
      "text/plain": [
       "             tweet_id            timestamp              source  \\\n",
       "0  891815181378084864  2017-07-31 00:18:03  Twitter for iPhone   \n",
       "\n",
       "                                                                                                                                                text  \\\n",
       "0  This is Archie. He is a rare Norwegian Pouncing Corgo. Lives in the tall grass. You never know when one may strike. 12/10 https://t.co/wUnZnhtVJB   \n",
       "\n",
       "                                                     expanded_urls  \\\n",
       "0  https://twitter.com/dog_rates/status/891815181378084864/photo/1   \n",
       "\n",
       "   rating_numerator  rating_denominator    name stage  \\\n",
       "0  12                10                  Archie  NaN    \n",
       "\n",
       "                                           jpg_url       ...         \\\n",
       "0  https://pbs.twimg.com/media/DGBdLU1WsAANxJ9.jpg       ...          \n",
       "\n",
       "   second_prediction second_prediction_confidence  is_second_prediction_dog  \\\n",
       "0  malamute           0.078253                     True                       \n",
       "\n",
       "   third__prediction third_prediction_confidence  is_third_prediction_dog  \\\n",
       "0  kelpie             0.031379                    True                      \n",
       "\n",
       "            created_at favorite_count  retweet_count  tweet_status_ok  \n",
       "0  2017-07-31 00:18:03  23755          3820           True             \n",
       "\n",
       "[1 rows x 24 columns]"
      ]
     },
     "execution_count": 183,
     "metadata": {},
     "output_type": "execute_result"
    }
   ],
   "source": [
    "df = pd.read_csv('twitter_archive_master.csv')\n",
    "df.head(1)"
   ]
  },
  {
   "cell_type": "markdown",
   "metadata": {},
   "source": [
    "#### Define (15)\n",
    "* Remove duplicate columns: `timestamp` and `created_at` are identical\n",
    "* Remove `expanded_urls` as we don't need it\n",
    "* Remove `rating_denominator` as all of them are 10\n",
    "* Remove `jpg_url` as we don't need it.\n",
    "* Remove `image_count` as we don't need it.\n",
    "\n",
    "#### Code"
   ]
  },
  {
   "cell_type": "code",
   "execution_count": 184,
   "metadata": {},
   "outputs": [],
   "source": [
    "df.drop(columns=['created_at','expanded_urls','rating_denominator','jpg_url','image_count'], inplace=True)"
   ]
  },
  {
   "cell_type": "markdown",
   "metadata": {},
   "source": [
    "______________________________________"
   ]
  },
  {
   "cell_type": "markdown",
   "metadata": {},
   "source": [
    "<a id='viz'></a>\n",
    "# Analyzing and Visualizing\n",
    "> 1. How retweets count correlates with the score\n",
    "2. How favourite count correlates with the score\n",
    "3. How favourite count correlates with retweets count\n",
    "4. Which breeds are among top 20 predictions\n",
    "5. How the number of tweets changes over time\n",
    "6. Which words were used the most in the tweets\n",
    "7. What is the relationship between breeds and prediction confidence"
   ]
  },
  {
   "cell_type": "code",
   "execution_count": 187,
   "metadata": {},
   "outputs": [
    {
     "name": "stdout",
     "output_type": "stream",
     "text": [
      "<class 'pandas.core.frame.DataFrame'>\n",
      "RangeIndex: 1264 entries, 0 to 1263\n",
      "Data columns (total 19 columns):\n",
      "tweet_id                        1264 non-null int64\n",
      "timestamp                       1264 non-null object\n",
      "source                          1264 non-null object\n",
      "text                            1264 non-null object\n",
      "rating_numerator                1264 non-null int64\n",
      "name                            855 non-null object\n",
      "stage                           194 non-null object\n",
      "first_prediction                1264 non-null object\n",
      "first_prediction_confidence     1264 non-null float64\n",
      "is_first_prediction_dog         1264 non-null bool\n",
      "second_prediction               1264 non-null object\n",
      "second_prediction_confidence    1264 non-null float64\n",
      "is_second_prediction_dog        1264 non-null bool\n",
      "third__prediction               1264 non-null object\n",
      "third_prediction_confidence     1264 non-null float64\n",
      "is_third_prediction_dog         1264 non-null bool\n",
      "favorite_count                  1264 non-null int64\n",
      "retweet_count                   1264 non-null int64\n",
      "tweet_status_ok                 1264 non-null bool\n",
      "dtypes: bool(4), float64(3), int64(4), object(8)\n",
      "memory usage: 153.1+ KB\n"
     ]
    }
   ],
   "source": [
    "df.info()"
   ]
  },
  {
   "cell_type": "code",
   "execution_count": 188,
   "metadata": {},
   "outputs": [
    {
     "data": {
      "text/html": [
       "<div>\n",
       "<style scoped>\n",
       "    .dataframe tbody tr th:only-of-type {\n",
       "        vertical-align: middle;\n",
       "    }\n",
       "\n",
       "    .dataframe tbody tr th {\n",
       "        vertical-align: top;\n",
       "    }\n",
       "\n",
       "    .dataframe thead th {\n",
       "        text-align: right;\n",
       "    }\n",
       "</style>\n",
       "<table border=\"1\" class=\"dataframe\">\n",
       "  <thead>\n",
       "    <tr style=\"text-align: right;\">\n",
       "      <th></th>\n",
       "      <th>tweet_id</th>\n",
       "      <th>rating_numerator</th>\n",
       "      <th>first_prediction_confidence</th>\n",
       "      <th>second_prediction_confidence</th>\n",
       "      <th>third_prediction_confidence</th>\n",
       "      <th>favorite_count</th>\n",
       "      <th>retweet_count</th>\n",
       "    </tr>\n",
       "  </thead>\n",
       "  <tbody>\n",
       "    <tr>\n",
       "      <th>count</th>\n",
       "      <td>1.264000e+03</td>\n",
       "      <td>1264.000000</td>\n",
       "      <td>1264.000000</td>\n",
       "      <td>1.264000e+03</td>\n",
       "      <td>1.264000e+03</td>\n",
       "      <td>1264.000000</td>\n",
       "      <td>1264.000000</td>\n",
       "    </tr>\n",
       "    <tr>\n",
       "      <th>mean</th>\n",
       "      <td>7.327313e+17</td>\n",
       "      <td>10.470728</td>\n",
       "      <td>0.586626</td>\n",
       "      <td>1.384059e-01</td>\n",
       "      <td>6.155056e-02</td>\n",
       "      <td>7839.268987</td>\n",
       "      <td>2305.519778</td>\n",
       "    </tr>\n",
       "    <tr>\n",
       "      <th>std</th>\n",
       "      <td>6.652998e+16</td>\n",
       "      <td>2.147550</td>\n",
       "      <td>0.273464</td>\n",
       "      <td>1.025730e-01</td>\n",
       "      <td>5.218239e-02</td>\n",
       "      <td>10983.440291</td>\n",
       "      <td>3740.087247</td>\n",
       "    </tr>\n",
       "    <tr>\n",
       "      <th>min</th>\n",
       "      <td>6.660293e+17</td>\n",
       "      <td>1.000000</td>\n",
       "      <td>0.044333</td>\n",
       "      <td>1.011300e-08</td>\n",
       "      <td>1.740170e-10</td>\n",
       "      <td>72.000000</td>\n",
       "      <td>11.000000</td>\n",
       "    </tr>\n",
       "    <tr>\n",
       "      <th>25%</th>\n",
       "      <td>6.747799e+17</td>\n",
       "      <td>10.000000</td>\n",
       "      <td>0.354627</td>\n",
       "      <td>5.444888e-02</td>\n",
       "      <td>1.646350e-02</td>\n",
       "      <td>1590.000000</td>\n",
       "      <td>529.750000</td>\n",
       "    </tr>\n",
       "    <tr>\n",
       "      <th>50%</th>\n",
       "      <td>7.062162e+17</td>\n",
       "      <td>11.000000</td>\n",
       "      <td>0.576936</td>\n",
       "      <td>1.214325e-01</td>\n",
       "      <td>4.961540e-02</td>\n",
       "      <td>3590.500000</td>\n",
       "      <td>1154.500000</td>\n",
       "    </tr>\n",
       "    <tr>\n",
       "      <th>75%</th>\n",
       "      <td>7.794917e+17</td>\n",
       "      <td>12.000000</td>\n",
       "      <td>0.836459</td>\n",
       "      <td>2.015987e-01</td>\n",
       "      <td>9.470035e-02</td>\n",
       "      <td>9719.000000</td>\n",
       "      <td>2754.750000</td>\n",
       "    </tr>\n",
       "    <tr>\n",
       "      <th>max</th>\n",
       "      <td>8.918152e+17</td>\n",
       "      <td>14.000000</td>\n",
       "      <td>1.000000</td>\n",
       "      <td>4.676780e-01</td>\n",
       "      <td>2.710420e-01</td>\n",
       "      <td>122097.000000</td>\n",
       "      <td>57466.000000</td>\n",
       "    </tr>\n",
       "  </tbody>\n",
       "</table>\n",
       "</div>"
      ],
      "text/plain": [
       "           tweet_id  rating_numerator  first_prediction_confidence  \\\n",
       "count  1.264000e+03  1264.000000       1264.000000                   \n",
       "mean   7.327313e+17  10.470728         0.586626                      \n",
       "std    6.652998e+16  2.147550          0.273464                      \n",
       "min    6.660293e+17  1.000000          0.044333                      \n",
       "25%    6.747799e+17  10.000000         0.354627                      \n",
       "50%    7.062162e+17  11.000000         0.576936                      \n",
       "75%    7.794917e+17  12.000000         0.836459                      \n",
       "max    8.918152e+17  14.000000         1.000000                      \n",
       "\n",
       "       second_prediction_confidence  third_prediction_confidence  \\\n",
       "count  1.264000e+03                  1.264000e+03                  \n",
       "mean   1.384059e-01                  6.155056e-02                  \n",
       "std    1.025730e-01                  5.218239e-02                  \n",
       "min    1.011300e-08                  1.740170e-10                  \n",
       "25%    5.444888e-02                  1.646350e-02                  \n",
       "50%    1.214325e-01                  4.961540e-02                  \n",
       "75%    2.015987e-01                  9.470035e-02                  \n",
       "max    4.676780e-01                  2.710420e-01                  \n",
       "\n",
       "       favorite_count  retweet_count  \n",
       "count  1264.000000     1264.000000    \n",
       "mean   7839.268987     2305.519778    \n",
       "std    10983.440291    3740.087247    \n",
       "min    72.000000       11.000000      \n",
       "25%    1590.000000     529.750000     \n",
       "50%    3590.500000     1154.500000    \n",
       "75%    9719.000000     2754.750000    \n",
       "max    122097.000000   57466.000000   "
      ]
     },
     "execution_count": 188,
     "metadata": {},
     "output_type": "execute_result"
    }
   ],
   "source": [
    "df.describe()"
   ]
  },
  {
   "cell_type": "markdown",
   "metadata": {},
   "source": [
    "### 1. How retweets count correlates with the score"
   ]
  },
  {
   "cell_type": "code",
   "execution_count": 226,
   "metadata": {},
   "outputs": [
    {
     "data": {
      "image/png": "[encoded data removed]",
      "text/plain": [
       "<Figure size 432x288 with 1 Axes>"
      ]
     },
     "metadata": {
      "needs_background": "light"
     },
     "output_type": "display_data"
    }
   ],
   "source": [
    "sns.scatterplot(df.rating_numerator, df.retweet_count);"
   ]
  },
  {
   "cell_type": "markdown",
   "metadata": {},
   "source": [
    "### 2. How favourite count correlates with the score"
   ]
  },
  {
   "cell_type": "code",
   "execution_count": 197,
   "metadata": {},
   "outputs": [
    {
     "data": {
      "image/png": "[encoded data removed]",
      "text/plain": [
       "<Figure size 432x288 with 1 Axes>"
      ]
     },
     "metadata": {
      "needs_background": "light"
     },
     "output_type": "display_data"
    }
   ],
   "source": [
    "sb.scatterplot(df.rating_numerator, df.favorite_count);"
   ]
  },
  {
   "cell_type": "markdown",
   "metadata": {},
   "source": [
    "### 3. How favourite count correlates with retweets count"
   ]
  },
  {
   "cell_type": "code",
   "execution_count": 227,
   "metadata": {},
   "outputs": [
    {
     "data": {
      "image/png": "[encoded data removed]",
      "text/plain": [
       "<Figure size 432x288 with 1 Axes>"
      ]
     },
     "metadata": {
      "needs_background": "light"
     },
     "output_type": "display_data"
    }
   ],
   "source": [
    "sns.scatterplot(df.favorite_count, df.favorite_count);"
   ]
  },
  {
   "cell_type": "markdown",
   "metadata": {},
   "source": [
    "### 4. Which breeds are among top 20 predictions"
   ]
  },
  {
   "cell_type": "code",
   "execution_count": 222,
   "metadata": {},
   "outputs": [],
   "source": [
    "temp = df.query('is_first_prediction_dog == 1').groupby('first_prediction').count().sort_values('tweet_id',ascending=False).head(20)"
   ]
  },
  {
   "cell_type": "code",
   "execution_count": 245,
   "metadata": {},
   "outputs": [
    {
     "data": {
      "text/plain": [
       "<matplotlib.axes._subplots.AxesSubplot at 0x28f2dc0ff60>"
      ]
     },
     "execution_count": 245,
     "metadata": {},
     "output_type": "execute_result"
    },
    {
     "data": {
      "image/png": "[encoded data removed]",
      "text/plain": [
       "<Figure size 1152x432 with 1 Axes>"
      ]
     },
     "metadata": {
      "needs_background": "light"
     },
     "output_type": "display_data"
    }
   ],
   "source": [
    "plt.figure(figsize=(16, 6))\n",
    "plt.xticks(rotation=60)\n",
    "sns.barplot(temp.index, temp.tweet_id)"
   ]
  },
  {
   "cell_type": "markdown",
   "metadata": {},
   "source": [
    "### 5. How the number of tweets changes over time"
   ]
  },
  {
   "cell_type": "code",
   "execution_count": null,
   "metadata": {},
   "outputs": [],
   "source": []
  },
  {
   "cell_type": "markdown",
   "metadata": {},
   "source": [
    "### 6. Which words were used the most in the tweets"
   ]
  },
  {
   "cell_type": "code",
   "execution_count": null,
   "metadata": {},
   "outputs": [],
   "source": []
  },
  {
   "cell_type": "markdown",
   "metadata": {},
   "source": [
    "### 7. What is the relationship between breeds and prediction confidence"
   ]
  },
  {
   "cell_type": "code",
   "execution_count": null,
   "metadata": {},
   "outputs": [],
   "source": []
  },
  {
   "cell_type": "markdown",
   "metadata": {},
   "source": [
    "__________________________________"
   ]
  },
  {
   "cell_type": "markdown",
   "metadata": {},
   "source": [
    "<a id='conclusions'></a>\n",
    "# Conclusions"
   ]
  },
  {
   "cell_type": "code",
   "execution_count": null,
   "metadata": {},
   "outputs": [],
   "source": []
  }
 ],
 "metadata": {
  "kernelspec": {
   "display_name": "Python 3",
   "language": "python",
   "name": "python3"
  },
  "language_info": {
   "codemirror_mode": {
    "name": "ipython",
    "version": 3
   },
   "file_extension": ".py",
   "mimetype": "text/x-python",
   "name": "python",
   "nbconvert_exporter": "python",
   "pygments_lexer": "ipython3",
   "version": "3.7.1"
  }
 },
 "nbformat": 4,
 "nbformat_minor": 2
}
