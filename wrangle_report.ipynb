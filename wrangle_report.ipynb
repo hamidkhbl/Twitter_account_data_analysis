{
 "cells": [
  {
   "cell_type": "markdown",
   "metadata": {},
   "source": [
    "## Twitter data wrangling report\n",
    ">In this document I am going to report the process of data wrangling and data analysis for tweeter data.\n",
    "\n",
    "> All the steps are elaborated below."
   ]
  },
  {
   "cell_type": "markdown",
   "metadata": {},
   "source": [
    "### Data gathering\n",
    ">I  this phase I gathered data from 3 different resources; a `csv` file on my local machine, a `tsv` file from a remote server and a `json` file extracted from Twitter APIs.\n",
    "\n",
    "\n",
    "### Assessing\n",
    ">Data gathered from the last step, assessed in this phase both visually and programatically. 14 quality and tidyness issues detected and documened. At the end of this step it is very clear that what problems we are facing.\n",
    "\n",
    "\n",
    "### Cleaning\n",
    ">In the cleaning step I cleaned all the 14 issue found on the previous step. For each issue I specified three steps: define, code and test. In the define step I have defined exactly what we need to do. Code step includes the code for making the data clean. Finally in the test step I have test the result of the code to make sure that the expectations from define step have been met.\n",
    "\n",
    "\n",
    "### Storing\n",
    ">I this step, all three sources of data that has been clean in the cleaning process has been merged and stored in a csv file.\n",
    "\n",
    "\n",
    "### Analyzing and Visualizing\n",
    ">For analyzing this merged data, I have proposed seven possible visualization.\n",
    "\n",
    "\n",
    "\n",
    "### Conclusions\n"
   ]
  },
  {
   "cell_type": "code",
   "execution_count": null,
   "metadata": {},
   "outputs": [],
   "source": []
  }
 ],
 "metadata": {
  "kernelspec": {
   "display_name": "Python 3",
   "language": "python",
   "name": "python3"
  },
  "language_info": {
   "codemirror_mode": {
    "name": "ipython",
    "version": 3
   },
   "file_extension": ".py",
   "mimetype": "text/x-python",
   "name": "python",
   "nbconvert_exporter": "python",
   "pygments_lexer": "ipython3",
   "version": "3.7.1"
  }
 },
 "nbformat": 4,
 "nbformat_minor": 2
}
