{
 "cells": [
  {
   "cell_type": "markdown",
   "metadata": {},
   "source": [
    "## Twitter data analysis\n",
    "### **`wrangling efforts description`**\n",
    ">In this document, on the process of data wrangling and data analysis for twitter data is elaborated. This data includes tweets of [@weRateDogs](https://twitter.com/dog_rates?ref_src=twsrc%5Egoogle%7Ctwcamp%5Eserp%7Ctwgr%5Eauthor) Twitter account, which rates dog photos, usually including a fun comment about the dog.\n",
    "\n",
    "\n",
    "### Data gathering\n",
    ">In this phase, we gathered data from 3 different resources; a `CSV` file on my local machine, a `TSV` file from a remote server and a `JSON` file extracted from Twitter APIs.\n",
    "The `CSV` file includes data about the tweets such as text, rating, user-id so on. Information about the photos is stored on the `TSV` file. An image processing algorithm has processed the photos and gave more details about the photo, such as the breed of the dog. For having the latest retweet and favourite counts, we used Twitter APIs and stored the latest numbers in a `JSON` file.\n",
    "\n",
    "\n",
    "### Assessing\n",
    ">All three sets of data gathered in the last step, assessed in this phase both visually and programmatically. By looking at the samples of the data, some of the issues such as problematic names or ratings revealed. Using the python code, we were able to find more issues that were not able to find them visually. Overall, 16 quality and tidiness issues detected and documented. At the end of this step, it is obvious that what issues we are facing.\n",
    "\n",
    "\n",
    "### Cleaning\n",
    ">In the cleaning step, we addressed all the 16 issues found in the previous step. For each issue, we specified three steps: define, code and test. In the define step, we have explained what we need to do exactly. The code step includes the code for making the data clean. Finally, in the test step, we have tested the result of the code to make sure that the expectations from the define step have been met.\n",
    "\n",
    "\n",
    "### Storing\n",
    ">In this step, all three sources of cleaned data merged and stored in a CSV file. This CSV file can be used for any future uses, such as data visualization.\n",
    "\n",
    "\n",
    "### Analyzing and Visualizing\n",
    ">This data set is relatively complex, and many insights can be extracted from it. we have selected seven possible questions and answered them using visualizations. we have used box plots, bar charts, scatter plots and word cloud to convey insights of the data.\n",
    "\n",
    "\n",
    "\n",
    "### Conclusions\n",
    "> Insights extracted from the visualizations reported consisly."
   ]
  },
  {
   "cell_type": "code",
   "execution_count": null,
   "metadata": {},
   "outputs": [],
   "source": []
  }
 ],
 "metadata": {
  "kernelspec": {
   "display_name": "Python 3",
   "language": "python",
   "name": "python3"
  },
  "language_info": {
   "codemirror_mode": {
    "name": "ipython",
    "version": 3
   },
   "file_extension": ".py",
   "mimetype": "text/x-python",
   "name": "python",
   "nbconvert_exporter": "python",
   "pygments_lexer": "ipython3",
   "version": "3.7.1"
  }
 },
 "nbformat": 4,
 "nbformat_minor": 2
}
