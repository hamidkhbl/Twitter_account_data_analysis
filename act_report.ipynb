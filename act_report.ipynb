{
 "cells": [
  {
   "cell_type": "markdown",
   "metadata": {},
   "source": [
    "### All dogs are cute! but let's what \n",
    "\n",
    "[@WeRateDogs](https://twitter.com/dog_rates?ref_src=twsrc%5Egoogle%7Ctwcamp%5Eserp%7Ctwgr%5Eauthor) is a popular twitter account, with over 8.5 million followers who rate dogs. It is simple; people send their dog's photo and [@WeRateDogs](https://twitter.com/dog_rates?ref_src=twsrc%5Egoogle%7Ctwcamp%5Eserp%7Ctwgr%5Eauthor) rates the dog out of 10. Because all the dogs are cute and lovely, usually ratings are above 10! so it is usual to see 13/10 or 14/10 scores! here is an example:\n",
    "\n",
    ">This is Hercules. He would like to discuss a job opportunity with you. The job is gently scratching behind his ears. It comes with many benefits and you can start immediately. 14/10\n",
    "><img src=\"https://pbs.twimg.com/media/ERvur68VUAI8qyi?format=jpg&name=medium\" alt=\"Drawing\" style=\"width: 300px;\"/>\n",
    "\n",
    "This twitter account has rated many dogs over the last five years, and they have collected a massive dataset of dog photos. It is interesting to see some insights of this data. In this article, I want to share some findings from the analysis that I have done on this dataset. Let's start with scores and number of likes!"
   ]
  },
  {
   "cell_type": "markdown",
   "metadata": {},
   "source": [
    "I told you that most of the dogs get rates over 10, but not all of them! Take a look at [this](https://twitter.com/dog_rates/status/771014301343748096) or [this](https://twitter.com/dog_rates/status/848212111729840128) tweets; these have scored less than 10.\n",
    "Fig. 1 shows the relationship between the score and the number of likes that a dog gets. As you see in this box plot, the higher the score, the more the likes. It is the same for retweet, which is shown in Fig. 2. Dogs with higher ratings have been retweeted the most.\n",
    "![FavoriteScore](https://github.com/hamidkhbl/Twitter_account_data_analysis/blob/master/FavoriteScore.png?raw=true)\n",
    "Fig. 1"
   ]
  },
  {
   "cell_type": "markdown",
   "metadata": {},
   "source": [
    "![RetweetScore](https://github.com/hamidkhbl/Twitter_account_data_analysis/blob/master/RetweetScore.png?raw=true)\n",
    "Fig. 2"
   ]
  },
  {
   "cell_type": "markdown",
   "metadata": {},
   "source": [
    "It is very interesting to know which breeds are popular. Fig. Three shows the top 20 most frequent dogs in this dataset. Golden retriever takes the first place by far!\n",
    "![TopBreed](https://github.com/hamidkhbl/Twitter_account_data_analysis/blob/master/TopBreed.png?raw=true)\n",
    "Fig. 3"
   ]
  },
  {
   "cell_type": "markdown",
   "metadata": {},
   "source": [
    "Another facinating fact about this dataset is that breed's of the dogs are identified using a machine learning algorithm! This algorithm has 3 guess for each dog with an confidence level between 0 and 1. Flowing bar chart shows which breeds were indentified with a higher confidence level:\n",
    "![ConfidenceInBreeds](https://github.com/hamidkhbl/Twitter_account_data_analysis/blob/master/ConfidenceInBreeds.png?raw=true)\n",
    "Fig. 4\n",
    "\n",
    "As you see the algorithm is better at predicting some breeds such as bulldog comparing to the others."
   ]
  },
  {
   "cell_type": "markdown",
   "metadata": {},
   "source": [
    "Finally, let's see what the most common words that have been used on the tweets are. The word count figure in Fig. 5 shows the most frequently used words. The larger words repeated more often.\n",
    "![WordCloud](https://github.com/hamidkhbl/Twitter_account_data_analysis/blob/master/allTweets_process.png?raw=true)\n",
    "Fig. 5"
   ]
  }
 ],
 "metadata": {
  "kernelspec": {
   "display_name": "Python 3",
   "language": "python",
   "name": "python3"
  },
  "language_info": {
   "codemirror_mode": {
    "name": "ipython",
    "version": 3
   },
   "file_extension": ".py",
   "mimetype": "text/x-python",
   "name": "python",
   "nbconvert_exporter": "python",
   "pygments_lexer": "ipython3",
   "version": "3.7.1"
  }
 },
 "nbformat": 4,
 "nbformat_minor": 2
}
